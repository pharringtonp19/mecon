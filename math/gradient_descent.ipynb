{
 "cells": [
  {
   "cell_type": "code",
   "execution_count": 23,
   "metadata": {},
   "outputs": [],
   "source": [
    "import jax\n",
    "jax.config.update(\"jax_enable_x64\", True)\n",
    "import jax.numpy as jnp\n",
    "import sympy \n",
    "import sympy2jax"
   ]
  },
  {
   "cell_type": "markdown",
   "metadata": {},
   "source": [
    "> No higher order derivatives"
   ]
  },
  {
   "cell_type": "code",
   "execution_count": null,
   "metadata": {},
   "outputs": [],
   "source": [
    "### Visualization Resources\n",
    "- [Ref](https://github.com/lilipads/gradient_descent_viz)"
   ]
  },
  {
   "cell_type": "markdown",
   "metadata": {},
   "source": [
    "$$\\begin{align} \\underset{x}{\\text{min}} \\ f(x) \\end{align}$$"
   ]
  },
  {
   "cell_type": "markdown",
   "metadata": {},
   "source": [
    "$$ \\begin{align}\\text{objective function}:& \\quad\n",
    "\\underset{x}{\\text{min}} \\ f(x_0) + \\nabla f(x_0)^T (x-x_0) + \\frac{1}{\\alpha}\\|x-x_0 \\| \\\\\\\\  \n",
    "\\text{update rule}:& \\quad x_{t-1} = x_t - \\alpha _t \\nabla f(x_t)\\end{align} $$"
   ]
  },
  {
   "cell_type": "code",
   "execution_count": 21,
   "metadata": {},
   "outputs": [],
   "source": [
    "import equinox as eqx"
   ]
  },
  {
   "cell_type": "code",
   "execution_count": 73,
   "metadata": {},
   "outputs": [
    {
     "name": "stdout",
     "output_type": "stream",
     "text": [
      "Evaluate the Objective at x=2.: 2.000\n",
      "Evaluate the objective at x=2.: 2.000\n",
      "\n",
      "Compute the derivative of f at x=2.: 2.000\n",
      "Compute the derivative of f at x=2.: 2.000\n"
     ]
    }
   ],
   "source": [
    "x = sympy.symbols('x')\n",
    "objective = 0.5*x**2\n",
    "objective_jax = sympy2jax.SymbolicModule(objective)\n",
    "f = lambda x: objective_jax(x=x)\n",
    "\n",
    "print(f\"Evaluate the Objective at x=2.: {sympy.simplify(objective).evalf(subs={x:2}):.3f}\")\n",
    "print(f\"Evaluate the objective at x=2.: {objective_jax(x=2):.3f}\\n\")\n",
    "\n",
    "print(f\"Compute the derivative of f at x=2.: {sympy.diff(objective, x).evalf(subs={x:2.}):.3f}\")\n",
    "print(f\"Compute the derivative of f at x=2.: {jax.grad(f)(2.):.3f}\")"
   ]
  },
  {
   "cell_type": "code",
   "execution_count": null,
   "metadata": {},
   "outputs": [],
   "source": []
  }
 ],
 "metadata": {
  "kernelspec": {
   "display_name": "mecon",
   "language": "python",
   "name": "mecon"
  },
  "language_info": {
   "codemirror_mode": {
    "name": "ipython",
    "version": 3
   },
   "file_extension": ".py",
   "mimetype": "text/x-python",
   "name": "python",
   "nbconvert_exporter": "python",
   "pygments_lexer": "ipython3",
   "version": "3.10.0"
  },
  "orig_nbformat": 4
 },
 "nbformat": 4,
 "nbformat_minor": 2
}
