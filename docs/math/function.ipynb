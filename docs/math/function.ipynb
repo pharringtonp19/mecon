{
 "cells": [
  {
   "cell_type": "markdown",
   "metadata": {},
   "source": [
    " - The correct idea is that a function is a mapping (i.e it takes some value as an input and returns that value as an output). \n",
    " $$x  \\overset{f}{\\longmapsto} f(x)$$\n",
    " This has more detail than you will normally see, but it's helpful to see the three distinct components: \n",
    "    - $x$ is the input to the function \n",
    "    - $f$ is the function (i.e. the map which is often represented as an arrow)\n",
    "    - $f(x)$ is the output, also referred to as the image of $x$ under $f$ \n",
    "At a high level, functions take values in a given set and return values in another set, which we can denote by the following:\n",
    "$$f : R^n \\to R^m $$"
   ]
  },
  {
   "cell_type": "markdown",
   "metadata": {},
   "source": []
  }
 ],
 "metadata": {
  "language_info": {
   "name": "python"
  },
  "orig_nbformat": 4
 },
 "nbformat": 4,
 "nbformat_minor": 2
}
