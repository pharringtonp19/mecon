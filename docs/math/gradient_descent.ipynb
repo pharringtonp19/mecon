{
 "cells": [
  {
   "cell_type": "markdown",
   "metadata": {},
   "source": [
    "> No higher order derivatives"
   ]
  },
  {
   "cell_type": "code",
   "execution_count": null,
   "metadata": {},
   "outputs": [],
   "source": [
    "### Visualization Resources\n",
    "- [Ref](https://github.com/lilipads/gradient_descent_viz)"
   ]
  },
  {
   "cell_type": "markdown",
   "metadata": {},
   "source": [
    "$$\\begin{align} \\underset{x}{\\text{min}} \\ f(x) \\end{align}$$"
   ]
  },
  {
   "cell_type": "markdown",
   "metadata": {},
   "source": [
    "$$ \\begin{align}\\text{objective function}:& \\quad\n",
    "\\underset{x}{\\text{min}} \\ f(x_0) + \\nabla f(x_0)^T (x-x_0) + \\frac{1}{\\alpha}\\|x-x_0 \\| \\\\\\\\  \n",
    "\\text{update rule}:& \\quad x_{t-1} = x_t - \\alpha _t \\nabla f(x_t)\\end{align} $$"
   ]
  },
  {
   "cell_type": "markdown",
   "metadata": {},
   "source": []
  }
 ],
 "metadata": {
  "language_info": {
   "name": "python"
  },
  "orig_nbformat": 4
 },
 "nbformat": 4,
 "nbformat_minor": 2
}
