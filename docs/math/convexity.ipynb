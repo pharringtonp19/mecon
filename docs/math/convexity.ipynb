{
 "cells": [
  {
   "cell_type": "markdown",
   "metadata": {},
   "source": [
    "The pointwise maximum preserves convexity \n",
    "\n",
    "$$\\text{max}\\ (f_1, f_2)$$"
   ]
  }
 ],
 "metadata": {
  "language_info": {
   "name": "python"
  },
  "orig_nbformat": 4
 },
 "nbformat": 4,
 "nbformat_minor": 2
}
