{
 "cells": [
  {
   "cell_type": "code",
   "execution_count": 1,
   "metadata": {},
   "outputs": [],
   "source": [
    "import jax \n",
    "import jax.numpy as jnp \n",
    "import matplotlib.pyplot as plt"
   ]
  },
  {
   "cell_type": "markdown",
   "metadata": {},
   "source": [
    "#### **Norm**: \n",
    "\n",
    "\n",
    "$$l_2 =  \\sqrt{ \\sum _{i=1}^n x_i^2}$$\n",
    "\n",
    "#### **Sequence**: \n",
    "- Can be understood as a function whose domain is the natural numbers\n",
    "$$n \\in \\mathbb{N} \\longmapsto f(n) \\quad \\equiv \\quad \\{x_1, x_2, \\dots,  \\}$$\n",
    "- Is said to converge if $f(n)$ eventually gets close and stays close to some element in the codomain as $n \\rightarrow \\infty$. Closeness in codomain is measured by the norm associated with the codomain.\n",
    "- Below I show the graph of a convergent sequence\n",
    "\n"
   ]
  },
  {
   "cell_type": "code",
   "execution_count": 6,
   "metadata": {},
   "outputs": [
    {
     "data": {
      "image/png": "[encoded data removed]",
      "text/plain": [
       "<Figure size 432x288 with 1 Axes>"
      ]
     },
     "metadata": {
      "needs_background": "light"
     },
     "output_type": "display_data"
    }
   ],
   "source": [
    "seq = lambda n : 1/n \n",
    "n = jnp.arange(1, 23)\n",
    "plt.scatter(n, seq(n))\n",
    "plt.show()"
   ]
  },
  {
   "cell_type": "markdown",
   "metadata": {},
   "source": [
    "#### **Continuity**: \n",
    "\n",
    "A function is continuous if \n",
    "$$x \\rightarrow x^* \\implies f(x) \\rightarrow f(x^*)$$\n",
    "below I plot the graph of a function that is not continuous"
   ]
  },
  {
   "cell_type": "code",
   "execution_count": 12,
   "metadata": {},
   "outputs": [
    {
     "data": {
      "image/png": "[encoded data removed]",
      "text/plain": [
       "<Figure size 432x288 with 1 Axes>"
      ]
     },
     "metadata": {
      "needs_background": "light"
     },
     "output_type": "display_data"
    }
   ],
   "source": [
    "def f(x):\n",
    "    return jnp.where(x >0, 2*x, 1 + 0.5*x)\n",
    "xs1 = jnp.linspace(-3, 0, 1000)\n",
    "ys1 = jax.vmap(f)(xs1)\n",
    "plt.plot(xs1, ys1, color='blue')\n",
    "\n",
    "xs2 = jnp.linspace(0.0001, 3, 1000)\n",
    "ys2 = jax.vmap(f)(xs2)\n",
    "plt.plot(xs2, ys2, color='blue')\n",
    "plt.show()"
   ]
  },
  {
   "cell_type": "markdown",
   "metadata": {},
   "source": [
    "#### **Differentiation**\n",
    "\n",
    "I think the most common way to introduce differentiation can make it difficult to understand the larger idea. \n",
    "\n",
    "$$\\frac{\\partial f}{\\partial x} \\Big|_{x=x_0} := \\underset{h \\rightarrow 0}{\\lim} \\frac{f(x_0 + h)}{f(x)}$$\n",
    "\n",
    "We'll come back to this definition at the end of the section, but I prefer to start in a different place. \n",
    "\n",
    "\n",
    "\n",
    "Up to this point in the note, the domain (the set of inputs to our functions) has been $\\mathbb{R}^n$ for some $n \\in \\mathbb{N}$. To discuss differentiation, though, we need to move beyond Euclidean space and begin to work with function spaces! \n",
    "\n",
    "##### **The Differential of a function**\n",
    "The differential of a function is a [higher order function](./../../other/comp_terms#\n",
    "higher-order-functions). Meaning, it takes a function as an argument and in this case returns a function as its ouput (higher order functions need not return functions as their outputs. For instace, $\\int f d\\mathbb{P}$ is a higher order function that returns a scalar.)\n",
    "\n",
    "$$\\partial f :: (\\mathbb{R}^n \\rightarrow \\mathbb{R}) \\rightarrow (\\mathbb{R}^n \\rightarrow (\\mathbb{R}^n \\rightarrow \\mathbb{R}))$$\n",
    "The differential exhibits linear structure. \n",
    "- The differential is a linear function which means that is preserves the linear structure on the function space \n",
    "$$\\partial (f + g) = \\partial f + \\partial g $$\n",
    "- The differential evaluated at a point $x$ is also a linear map\n",
    "\n",
    "$$\\partial f(x)[u + v] = \\partial f(x)[u] + \\partial f(x)[v]$$\n",
    "\n"
   ]
  },
  {
   "cell_type": "code",
   "execution_count": 14,
   "metadata": {},
   "outputs": [],
   "source": [
    "def f(x):\n",
    "    return x[0]*jnp.log(x[1])"
   ]
  }
 ],
 "metadata": {
  "kernelspec": {
   "display_name": "mecon",
   "language": "python",
   "name": "mecon"
  },
  "language_info": {
   "codemirror_mode": {
    "name": "ipython",
    "version": 3
   },
   "file_extension": ".py",
   "mimetype": "text/x-python",
   "name": "python",
   "nbconvert_exporter": "python",
   "pygments_lexer": "ipython3",
   "version": "3.10.0"
  },
  "orig_nbformat": 4
 },
 "nbformat": 4,
 "nbformat_minor": 2
}
