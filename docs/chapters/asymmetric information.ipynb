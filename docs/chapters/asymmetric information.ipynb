{
 "cells": [
  {
   "cell_type": "markdown",
   "metadata": {},
   "source": [
    "> Represent Information via the conditional expectation function\n",
    "\n"
   ]
  },
  {
   "cell_type": "markdown",
   "metadata": {},
   "source": [
    "$$ \\big(\\Omega, \\mathcal{F}, \\mathbb{P} \\big) $$\n",
    "\n",
    "- Let $\\Omega$ denote the set of 100 cars \n",
    "- Let $A = \\{\\omega \\in \\Omega | \\omega \\text{ is a lemon} \\}\\subset \\Omega$ and $A^c = \\{\\omega \\in \\Omega | \\omega \\text{ is a plum} \\}\\subset \\Omega$ \n",
    "- Let $\\mathbb{P}(A) = p, \\mathbb{P}(A^c) = 1 - p\n",
    "- add table here about how the sellers value their car less than the buyers\n",
    "\n",
    "$$$$"
   ]
  }
 ],
 "metadata": {
  "language_info": {
   "name": "python"
  },
  "orig_nbformat": 4
 },
 "nbformat": 4,
 "nbformat_minor": 2
}
