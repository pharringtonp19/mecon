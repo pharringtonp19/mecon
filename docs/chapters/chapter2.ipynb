{
 "cells": [
  {
   "cell_type": "code",
   "execution_count": 17,
   "metadata": {},
   "outputs": [],
   "source": [
    "import jax \n",
    "import jax.numpy as jnp \n",
    "import matplotlib.pyplot as plt \n",
    "from functools import partial"
   ]
  },
  {
   "cell_type": "markdown",
   "metadata": {},
   "source": [
    "### **Motivating Quote** --[Robert Gallagher](https://youtu.be/7CYXy9J4Aao?list=PLEEF5322B331C1B98&t=94)"
   ]
  },
  {
   "cell_type": "markdown",
   "metadata": {},
   "source": [
    "> ``The big problem in probability theory and particularly stochastic processes is not so much how do you solve well-posed problems. Anybody can do that. Or anybody who has a little bit of background can do it. The hard problem is finding the right models for a real-world problem.''"
   ]
  },
  {
   "cell_type": "markdown",
   "metadata": {},
   "source": [
    "### **Introduction**\n",
    "\n",
    "Like very few people who I interact with on a daily basis, I find the NBA offseason exilarating. As I am writing this sentence now in early July, Kevin Durant's future is still up in the air. Will he stay in Brooklyn? Will he stay with Kyrie? Could he possibly end up with the team up North? I find the inherent uncertainty of this event exciting. It gives plausibility to the thought of seeing Kevin Durant run pick-in-rolls with Ja Morant, or stretching the court with another long wing in Brandom Ingram.\n",
    "\n",
    "On the flip side, when I read articles regarding the current health of wall street, when I see headlines of an oncomming recession, it is easy to feel moments of anxiety. \n",
    "\n",
    "As we can all atest to, uncertainty can be both exilarating or debilitating depending on the context. Our task as Economist is to drain the emotion. We simply want to incorporate uncertainty into our Economic models to enhance them. "
   ]
  },
  {
   "cell_type": "markdown",
   "metadata": {},
   "source": [
    "### **Approach**\n",
    "\n",
    "When people look at how difficult a topic is to learn, they might start by considering the number of elements in the topic. I might be wrong about this, but I believe this rough heuristic shapes how many people teach classes on statistics and probability. If you can reduce the number of ideas that a student has to consider the easier it should be to learn, i.e. the less overwhelmed they are. \n",
    "\n",
    "I buy the point that it's important to introduce material in a way so as to decrease the likelihood of overwhelming students (that's why we're starting so early in the semester with probability - we're going to introduce it piece by piece), but I would push back on the idea that having fewer elements to learn makes the topic easier to understand. \n",
    "\n",
    "Learning a new topic can be difficult for the following three reasons. (1) It can be hard to understand why you should care about the topic (2) It can be hard to understand which aspects of the topic are important and which are just details and (3) It can be hard to understand how the components of the topic fit together. \n",
    "\n",
    "With this understanding in mind, I believe introducing additional components can be helpful it if enables students to better compose ideas. That is, if the addition details allows students to better understand how ideas relate to each others. I think this is the key to understanding probability theory. Understanding the fundamentals will make it easier/ simpler to see how things relate to each other. If you never understand the fundamentals you'll simply have a collection of ideas in your head, which will be harder to keep track of and harder to work with in practice. "
   ]
  },
  {
   "cell_type": "markdown",
   "metadata": {},
   "source": [
    "### **Probability Space**\n",
    "We'll start by introducing a probility space. We want to capture a lack of information, a lack of knowledge about some aspect of the world. \n",
    "\n",
    "$$\\begin{aligned}\\big( \\Omega, \\mathcal{F}, \\mathbb{P}) \\end{aligned}$$"
   ]
  }
 ],
 "metadata": {
  "interpreter": {
   "hash": "2b91704bc93839e555fbad31e144f0a8213f6d168ee20a433a9603005bae4d18"
  },
  "kernelspec": {
   "display_name": "Python 3.10.0 64-bit ('3.10.0')",
   "language": "python",
   "name": "python3"
  },
  "language_info": {
   "codemirror_mode": {
    "name": "ipython",
    "version": 3
   },
   "file_extension": ".py",
   "mimetype": "text/x-python",
   "name": "python",
   "nbconvert_exporter": "python",
   "pygments_lexer": "ipython3",
   "version": "3.10.0"
  },
  "orig_nbformat": 4
 },
 "nbformat": 4,
 "nbformat_minor": 2
}
