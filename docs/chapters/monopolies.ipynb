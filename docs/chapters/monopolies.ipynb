{
 "cells": [
  {
   "cell_type": "code",
   "execution_count": 17,
   "metadata": {},
   "outputs": [],
   "source": [
    "import jax \n",
    "import jax.numpy as jnp \n",
    "import matplotlib.pyplot as plt \n",
    "from functools import partial"
   ]
  },
  {
   "cell_type": "markdown",
   "metadata": {},
   "source": [
    "large companies design new programming langauges -- [see here](https://youtu.be/9R8Oim7YU20?list=PLt0HgEXFOHdkE-NTs87s7QjwYwqeihb-D&t=1371)"
   ]
  }
 ],
 "metadata": {
  "interpreter": {
   "hash": "2b91704bc93839e555fbad31e144f0a8213f6d168ee20a433a9603005bae4d18"
  },
  "kernelspec": {
   "display_name": "Python 3.10.0 64-bit ('3.10.0')",
   "language": "python",
   "name": "python3"
  },
  "language_info": {
   "codemirror_mode": {
    "name": "ipython",
    "version": 3
   },
   "file_extension": ".py",
   "mimetype": "text/x-python",
   "name": "python",
   "nbconvert_exporter": "python",
   "pygments_lexer": "ipython3",
   "version": "3.10.0"
  },
  "orig_nbformat": 4
 },
 "nbformat": 4,
 "nbformat_minor": 2
}
