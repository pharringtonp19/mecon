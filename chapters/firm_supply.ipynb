{
 "cells": [
  {
   "cell_type": "markdown",
   "metadata": {},
   "source": [
    "- The supply curve of a firm depends on the market that a firm finds itself in\n",
    "- The three ways to view producer surplus \n",
    "    - Fundamental Theorem of Calculus\n",
    "- Work through the example\n",
    "\n",
    "\n",
    "- The price-taking firm's problem \n",
    "\n",
    "$$ \\underset{y}{py} - c(y) $$\n",
    "\n",
    "- First order condition: \n",
    "$$p - c'(y) = 0 $$\n",
    "\n",
    "- Second order condition:\n",
    "$$ -c''(y) \\leq 0 $$"
   ]
  }
 ],
 "metadata": {
  "language_info": {
   "name": "python"
  },
  "orig_nbformat": 4
 },
 "nbformat": 4,
 "nbformat_minor": 2
}
