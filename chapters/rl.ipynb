{
 "cells": [
  {
   "cell_type": "markdown",
   "metadata": {},
   "source": [
    "> This note is based largely on David Silver's course on reinforcement learning\n",
    "### [The Science of Decision Making](https://youtu.be/2pWv7GOvuf0?list=PLqYmG7hTraZDM-OYHWgPebj2MfCFzFObQ&t=412)\n",
    "\n",
    "We consider the **Active learning ** set-up where \"agents\" make decisions and from these decisions, receive new experiences/observations and rewards. \n",
    "$$\\begin{aligned}\\text{Actions} &: A_t \\\\\\\\ \n",
    "\\text{Observations, Reward} &: O_{t+1}, R_{t+1} \\end{aligned}$$\n",
    "Combining these two ideas, our decisions/actions can depend on the entire experience (History)\n",
    "    $$H_t = A_1, O_1, R_1, \\dots, A_t, O_t, R_t$$\n",
    "    \n",
    "Defering for the moment any discussion about how we might define an observation or reward for a given problem, <span style=\"color:blue\">the central challenge is how can we learn from our history? </span>\n",
    "        - To do so, we introduce this idea of state which is some function of the history \n",
    "        $$S_t = f(H_t)$$\n",
    "\n",
    "- **[Reward Hypothesis](https://youtu.be/2pWv7GOvuf0?list=PLqYmG7hTraZDM-OYHWgPebj2MfCFzFObQ&t=1437)**\n",
    "    - \"Goals can be described by the maximization of expected cummulative reward\"\n",
    "    $$\\mathbb{E}\\Big[ \\sum R_{t}\\Big]$$\n",
    "    - Defining the reward can be challenging \n",
    "\n",
    "- **Consider**\n",
    "    - What is the reward? (this can be very high dimensional, how should we make it a scalar?)\n",
    "    - What is the state? \n",
    "    - how does the markov process afect the type of reward processes we can learn from? "
   ]
  },
  {
   "cell_type": "markdown",
   "metadata": {},
   "source": []
  }
 ],
 "metadata": {
  "kernelspec": {
   "display_name": "mecon",
   "language": "python",
   "name": "mecon"
  },
  "language_info": {
   "codemirror_mode": {
    "name": "ipython",
    "version": 3
   },
   "file_extension": ".py",
   "mimetype": "text/x-python",
   "name": "python",
   "nbconvert_exporter": "python",
   "pygments_lexer": "ipython3",
   "version": "3.10.0"
  },
  "orig_nbformat": 4
 },
 "nbformat": 4,
 "nbformat_minor": 2
}
