{
 "cells": [
  {
   "cell_type": "markdown",
   "metadata": {},
   "source": [
    "Def: --[ref](https://docs.sympy.org/latest/tutorial/intro.html)\n",
    "- \"mathematical objects are represented exactly, not approximately\"\n",
    "-  \"mathematical expressions with unevaluated variables are left in symbolic form.\""
   ]
  },
  {
   "cell_type": "code",
   "execution_count": 39,
   "metadata": {},
   "outputs": [],
   "source": [
    "import jax\n",
    "import jax.numpy as jnp \n",
    "import sympy\n",
    "from sympy import symbols, expand, factor, diff, sin, exp\n",
    "import sympy2jax"
   ]
  },
  {
   "cell_type": "markdown",
   "metadata": {},
   "source": [
    "#### Manipulate Expressions"
   ]
  },
  {
   "cell_type": "code",
   "execution_count": 40,
   "metadata": {},
   "outputs": [
    {
     "name": "stdout",
     "output_type": "stream",
     "text": [
      "We can print the expression:\t\t x + 2*y\n",
      "We can add to the expression:\t\t x + 2*y + 1\n",
      "We can subtract from the expression:\t 2*y\n",
      "\n",
      "We can take expressions:\t\t x*(x + 2*y)\n",
      "and expand them:\t\t\t x**2 + 2*x*y\n"
     ]
    }
   ],
   "source": [
    "x, y = symbols('x y')\n",
    "expr = x + 2*y \n",
    "print(f\"We can print the expression:\\t\\t {expr}\")\n",
    "print(f\"We can add to the expression:\\t\\t {expr + 1}\")\n",
    "print(f\"We can subtract from the expression:\\t {expr-x}\")\n",
    "print(\"\")\n",
    "print(f\"We can take expressions:\\t\\t {x*expr}\")\n",
    "print(f\"and expand them:\\t\\t\\t {expand(x*expr)}\")"
   ]
  },
  {
   "cell_type": "markdown",
   "metadata": {},
   "source": [
    "#### Differentiation"
   ]
  },
  {
   "cell_type": "code",
   "execution_count": 41,
   "metadata": {},
   "outputs": [
    {
     "name": "stdout",
     "output_type": "stream",
     "text": [
      "1\n",
      "cos(x)\n"
     ]
    }
   ],
   "source": [
    "print(diff(expr, x))\n",
    "print(diff(sin(x)))"
   ]
  },
  {
   "cell_type": "markdown",
   "metadata": {},
   "source": [
    "#### Integrate"
   ]
  },
  {
   "cell_type": "markdown",
   "metadata": {},
   "source": [
    "#### Solve"
   ]
  },
  {
   "cell_type": "markdown",
   "metadata": {},
   "source": [
    "#### Limits"
   ]
  },
  {
   "cell_type": "code",
   "execution_count": 42,
   "metadata": {},
   "outputs": [
    {
     "data": {
      "text/latex": [
       "$\\displaystyle \\cos{\\left(x \\right)}$"
      ],
      "text/plain": [
       "cos(x)"
      ]
     },
     "execution_count": 42,
     "metadata": {},
     "output_type": "execute_result"
    }
   ],
   "source": [
    "diff(sin(x))"
   ]
  },
  {
   "cell_type": "code",
   "execution_count": 43,
   "metadata": {},
   "outputs": [
    {
     "name": "stdout",
     "output_type": "stream",
     "text": [
      "<class 'sympy2jax.sympy_module.SymbolicModule'>\n"
     ]
    }
   ],
   "source": [
    "x_sym = symbols(\"x_sym\")\n",
    "cosx = 1.0 * sympy.cos(x_sym)\n",
    "sinx = 2.0 * sympy.sin(x_sym)\n",
    "mod = sympy2jax.SymbolicModule([cosx, sinx])\n",
    "print(type(mod))\n"
   ]
  },
  {
   "cell_type": "code",
   "execution_count": 45,
   "metadata": {},
   "outputs": [
    {
     "data": {
      "text/plain": [
       "[<function sympy2jax.sympy_module._reduce.<locals>.fn_(*args)>,\n",
       " DeviceArray(1., dtype=float32, weak_type=True),\n",
       " <CompiledFunction of <function _one_to_one_unop.<locals>.<lambda> at 0x122c75120>>,\n",
       " 'x_sym',\n",
       " <function sympy2jax.sympy_module._reduce.<locals>.fn_(*args)>,\n",
       " DeviceArray(2., dtype=float32, weak_type=True),\n",
       " <CompiledFunction of <function _one_to_one_unop.<locals>.<lambda> at 0x122c74d30>>,\n",
       " 'x_sym']"
      ]
     },
     "execution_count": 45,
     "metadata": {},
     "output_type": "execute_result"
    }
   ],
   "source": [
    "x = jnp.zeros(3)\n",
    "out = mod(x_sym=x)\n",
    "params = jax.tree_leaves(mod)\n",
    "params"
   ]
  },
  {
   "cell_type": "markdown",
   "metadata": {},
   "source": []
  }
 ],
 "metadata": {
  "kernelspec": {
   "display_name": "mecon",
   "language": "python",
   "name": "mecon"
  },
  "language_info": {
   "codemirror_mode": {
    "name": "ipython",
    "version": 3
   },
   "file_extension": ".py",
   "mimetype": "text/x-python",
   "name": "python",
   "nbconvert_exporter": "python",
   "pygments_lexer": "ipython3",
   "version": "3.10.0"
  },
  "orig_nbformat": 4
 },
 "nbformat": 4,
 "nbformat_minor": 2
}
