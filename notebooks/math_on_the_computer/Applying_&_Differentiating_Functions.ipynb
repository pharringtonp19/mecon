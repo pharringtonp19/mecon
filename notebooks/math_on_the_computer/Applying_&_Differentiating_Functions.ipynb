{
  "nbformat": 4,
  "nbformat_minor": 0,
  "metadata": {
    "colab": {
      "provenance": [],
      "authorship_tag": "ABX9TyNz1EP5BKIULN6u4/HDJk5z",
      "include_colab_link": true
    },
    "kernelspec": {
      "name": "python3",
      "display_name": "Python 3"
    },
    "language_info": {
      "name": "python"
    }
  },
  "cells": [
    {
      "cell_type": "markdown",
      "metadata": {
        "id": "view-in-github",
        "colab_type": "text"
      },
      "source": [
        "<a href=\"https://colab.research.google.com/github/pharringtonp19/mecon/blob/main/notebooks/math_on_the_computer/Applying_%26_Differentiating_Functions.ipynb\" target=\"_parent\"><img src=\"https://colab.research.google.com/assets/colab-badge.svg\" alt=\"Open In Colab\"/></a>"
      ]
    },
    {
      "cell_type": "code",
      "execution_count": 1,
      "metadata": {
        "id": "ZVXOdJw-NFTH"
      },
      "outputs": [],
      "source": [
        "import jax \n",
        "import jax.numpy as jnp "
      ]
    },
    {
      "cell_type": "markdown",
      "source": [
        "### **Evaluating a Function**"
      ],
      "metadata": {
        "id": "2jUgU1QMN8kU"
      }
    },
    {
      "cell_type": "code",
      "source": [
        "apply = lambda f: lambda x:  f(x)"
      ],
      "metadata": {
        "id": "FVKcQsTqNHJw"
      },
      "execution_count": 9,
      "outputs": []
    },
    {
      "cell_type": "markdown",
      "source": [
        "### **Differentiating a Function**"
      ],
      "metadata": {
        "id": "bdYxkC1mOAAm"
      }
    },
    {
      "cell_type": "code",
      "source": [
        "grad = lambda f: lambda x: jax.grad(f)(x)\n",
        "#grad = lambda f: apply(jax.grad(f))"
      ],
      "metadata": {
        "id": "uY_lt83sNmgA"
      },
      "execution_count": 20,
      "outputs": []
    },
    {
      "cell_type": "markdown",
      "source": [
        "### **Examples**"
      ],
      "metadata": {
        "id": "0TLE_b-dOMh0"
      }
    },
    {
      "cell_type": "code",
      "source": [
        "apply(jnp.sin)(2.)"
      ],
      "metadata": {
        "colab": {
          "base_uri": "https://localhost:8080/"
        },
        "id": "_L-D-7O9NvFq",
        "outputId": "579fbd3d-731a-4b75-9b43-3a4c90808138"
      },
      "execution_count": 21,
      "outputs": [
        {
          "output_type": "execute_result",
          "data": {
            "text/plain": [
              "DeviceArray(0.9092974, dtype=float32, weak_type=True)"
            ]
          },
          "metadata": {},
          "execution_count": 21
        }
      ]
    },
    {
      "cell_type": "code",
      "source": [
        "grad(jnp.sin)(2.)"
      ],
      "metadata": {
        "colab": {
          "base_uri": "https://localhost:8080/"
        },
        "id": "vhNVk_6IOTrO",
        "outputId": "2fefaf5d-2011-4899-aba1-c9a5de391ef6"
      },
      "execution_count": 22,
      "outputs": [
        {
          "output_type": "execute_result",
          "data": {
            "text/plain": [
              "DeviceArray(-0.41614684, dtype=float32, weak_type=True)"
            ]
          },
          "metadata": {},
          "execution_count": 22
        }
      ]
    },
    {
      "cell_type": "code",
      "source": [],
      "metadata": {
        "id": "6eRPApt0OVd9"
      },
      "execution_count": null,
      "outputs": []
    }
  ]
}