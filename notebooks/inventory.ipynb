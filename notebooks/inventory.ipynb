{
 "cells": [
  {
   "cell_type": "code",
   "execution_count": 1,
   "metadata": {},
   "outputs": [],
   "source": [
    "from dataclasses import dataclass \n",
    "\n"
   ]
  },
  {
   "cell_type": "code",
   "execution_count": 2,
   "metadata": {},
   "outputs": [],
   "source": [
    "@dataclass \n",
    "class InventoryItem:\n",
    "    name: str \n",
    "    unit_price: float \n",
    "    quantity_on_hand: int = 0 \n",
    "\n",
    "    def total_cost(self) -> float:\n",
    "        return self.unit_price * self.quantity_on_hand "
   ]
  },
  {
   "cell_type": "code",
   "execution_count": 3,
   "metadata": {},
   "outputs": [
    {
     "name": "stdout",
     "output_type": "stream",
     "text": [
      "('name',)\n",
      "()\n"
     ]
    }
   ],
   "source": [
    "@dataclass \n",
    "class Person:\n",
    "    name: str = \"\"\n",
    "\n",
    "@dataclass(kw_only=True)\n",
    "class AnotherPerson: \n",
    "    name: str = \"\"\n",
    "\n",
    "print(Person.__match_args__)\n",
    "print(AnotherPerson.__match_args__)"
   ]
  },
  {
   "cell_type": "code",
   "execution_count": 15,
   "metadata": {},
   "outputs": [
    {
     "name": "stdout",
     "output_type": "stream",
     "text": [
      "What is y = 3?\n",
      "4 3\n"
     ]
    }
   ],
   "source": [
    "x = 3 \n",
    "y = x \n",
    "x += 1 \n",
    "print(f\"What is {y = }?\")\n",
    "print(x, y)"
   ]
  },
  {
   "cell_type": "code",
   "execution_count": 16,
   "metadata": {},
   "outputs": [
    {
     "name": "stdout",
     "output_type": "stream",
     "text": [
      "[4] [4]\n"
     ]
    }
   ],
   "source": [
    "x = [3]\n",
    "y = x  \n",
    "x[0] += 1\n",
    "print(x, y)"
   ]
  },
  {
   "cell_type": "code",
   "execution_count": 17,
   "metadata": {},
   "outputs": [],
   "source": [
    "class Addable:\n",
    "    def __init__(self, value: int) -> None: \n",
    "        self.value = value \n",
    "    \n",
    "    def __add__(self, number: int):\n",
    "        return Addable(self.value + number)"
   ]
  },
  {
   "cell_type": "code",
   "execution_count": 23,
   "metadata": {},
   "outputs": [],
   "source": [
    "import gc \n",
    "import sys \n",
    "\n",
    "class Boom: \n",
    "    \n",
    "    def __del__(self) -> None:\n",
    "        print(\"Boom!\")\n",
    "\n",
    "ob = Boom();"
   ]
  },
  {
   "cell_type": "code",
   "execution_count": 24,
   "metadata": {},
   "outputs": [
    {
     "data": {
      "text/plain": [
       "True"
      ]
     },
     "execution_count": 24,
     "metadata": {},
     "output_type": "execute_result"
    }
   ],
   "source": [
    "gc.is_tracked(ob)"
   ]
  },
  {
   "cell_type": "code",
   "execution_count": 25,
   "metadata": {},
   "outputs": [
    {
     "data": {
      "text/plain": [
       "2"
      ]
     },
     "execution_count": 25,
     "metadata": {},
     "output_type": "execute_result"
    }
   ],
   "source": [
    "sys.getrefcount(ob)"
   ]
  },
  {
   "cell_type": "code",
   "execution_count": 26,
   "metadata": {},
   "outputs": [
    {
     "name": "stdout",
     "output_type": "stream",
     "text": [
      "Boom!\n"
     ]
    }
   ],
   "source": [
    "del ob"
   ]
  },
  {
   "cell_type": "code",
   "execution_count": null,
   "metadata": {},
   "outputs": [],
   "source": []
  }
 ],
 "metadata": {
  "kernelspec": {
   "display_name": "mecon",
   "language": "python",
   "name": "mecon"
  },
  "language_info": {
   "codemirror_mode": {
    "name": "ipython",
    "version": 3
   },
   "file_extension": ".py",
   "mimetype": "text/x-python",
   "name": "python",
   "nbconvert_exporter": "python",
   "pygments_lexer": "ipython3",
   "version": "3.10.0"
  },
  "orig_nbformat": 4
 },
 "nbformat": 4,
 "nbformat_minor": 2
}
