{
  "nbformat": 4,
  "nbformat_minor": 0,
  "metadata": {
    "colab": {
      "provenance": [],
      "authorship_tag": "ABX9TyN0/+oiOjIsX/TjPUbaEx9A",
      "include_colab_link": true
    },
    "kernelspec": {
      "name": "python3",
      "display_name": "Python 3"
    },
    "language_info": {
      "name": "python"
    }
  },
  "cells": [
    {
      "cell_type": "markdown",
      "metadata": {
        "id": "view-in-github",
        "colab_type": "text"
      },
      "source": [
        "<a href=\"https://colab.research.google.com/github/pharringtonp19/mecon/blob/main/notebooks/practice_final/Supply_Shocks.ipynb\" target=\"_parent\"><img src=\"https://colab.research.google.com/assets/colab-badge.svg\" alt=\"Open In Colab\"/></a>"
      ]
    },
    {
      "cell_type": "code",
      "execution_count": 1,
      "metadata": {
        "id": "gCDiafWKdoCG"
      },
      "outputs": [],
      "source": [
        "import jax \n",
        "import jax.numpy as jnp "
      ]
    },
    {
      "cell_type": "code",
      "source": [
        "def output(key, q_bar, l):\n",
        "  return q_bar + jax.random.normal(key)*l"
      ],
      "metadata": {
        "id": "rMvL4Yx_6Xhb"
      },
      "execution_count": 5,
      "outputs": []
    },
    {
      "cell_type": "code",
      "source": [
        "def inverse_demand(q):\n",
        "  return 12. - q**2"
      ],
      "metadata": {
        "colab": {
          "base_uri": "https://localhost:8080/"
        },
        "id": "EhYCsYu26vxW",
        "outputId": "84772ae6-260b-43aa-d24e-204a7ad44320"
      },
      "execution_count": 7,
      "outputs": [
        {
          "output_type": "execute_result",
          "data": {
            "text/plain": [
              "DeviceArray(9.794158, dtype=float32)"
            ]
          },
          "metadata": {},
          "execution_count": 7
        }
      ]
    },
    {
      "cell_type": "code",
      "source": [],
      "metadata": {
        "id": "JsAiy8yz6zGL"
      },
      "execution_count": null,
      "outputs": []
    }
  ]
}