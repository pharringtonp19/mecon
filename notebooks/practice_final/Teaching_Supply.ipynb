{
  "nbformat": 4,
  "nbformat_minor": 0,
  "metadata": {
    "colab": {
      "provenance": [],
      "authorship_tag": "ABX9TyPbND0m9+BKyDKuwitKDe8Q",
      "include_colab_link": true
    },
    "kernelspec": {
      "name": "python3",
      "display_name": "Python 3"
    },
    "language_info": {
      "name": "python"
    }
  },
  "cells": [
    {
      "cell_type": "markdown",
      "metadata": {
        "id": "view-in-github",
        "colab_type": "text"
      },
      "source": [
        "<a href=\"https://colab.research.google.com/github/pharringtonp19/mecon/blob/main/notebooks/practice_final/Teaching_Supply.ipynb\" target=\"_parent\"><img src=\"https://colab.research.google.com/assets/colab-badge.svg\" alt=\"Open In Colab\"/></a>"
      ]
    },
    {
      "cell_type": "code",
      "execution_count": 18,
      "metadata": {
        "id": "pISeoYa2e7AU"
      },
      "outputs": [],
      "source": [
        "#@title **Imports** { display-mode: \"form\" }\n",
        "import jax \n",
        "import jax.numpy as jnp \n",
        "import matplotlib.pyplot as plt \n",
        "from functools import partial"
      ]
    },
    {
      "cell_type": "markdown",
      "source": [
        "### **Dot Products**\n",
        "In this model, take the dot product between two vectors. We've actually seen this before when we talked about probabiliity, but I want to make sure that everyone has seen how to write it on the computer. To begin, lets say we have two vectors, $x,y \\in \\mathcal{R}^n$. Then we can take the dot product, $\\langle x, y \\rangle$, as follows.\n",
        "\n",
        "\\begin{align*}\n",
        "\\langle x, y \\rangle = \\sum _{i=1}^n x_i y_i\n",
        "\\end{align*}\n",
        "\n",
        "on the computer, we can express this as follows `jnp.dot(x,y)`. "
      ],
      "metadata": {
        "id": "ZhuYrX7QmZut"
      }
    },
    {
      "cell_type": "markdown",
      "source": [
        "### **Matrices**\n",
        "\"Stacking vectors\". Let's say we have multiple vectors, $x, y, z \\in \\mathcal{R}^n$. Then we can stack these vectors to form a matrix as follows `jnp.vstack((x,y,z))`. "
      ],
      "metadata": {
        "id": "TZeuWGCSlDEh"
      }
    },
    {
      "cell_type": "markdown",
      "source": [
        "### **Argmax**\n",
        "\n",
        "As we've mentioned throughout the course, a vector can be thought of as a function defined over a subset of the natural numbers. Thefore taking the `jnp.argmax` of a vector is like taking the `jnp.argmax` of a function. We want to select the index of the vector with the largest corresponding value. "
      ],
      "metadata": {
        "id": "lAqBaU1mo9qu"
      }
    },
    {
      "cell_type": "markdown",
      "source": [
        "### **Model**\n",
        "We're going to model individuals as selecting a job to maximize their utilty. \n",
        "\n",
        "\\begin{align*}\n",
        "\\underset{x \\in {\\textrm{Jobs}}}{\\textrm{maximize}} \\ U_{\\alpha}(x)\n",
        "\\end{align*}"
      ],
      "metadata": {
        "id": "E8cxNB0TfDRf"
      }
    },
    {
      "cell_type": "markdown",
      "source": [
        "### **Jobs**\n",
        "\n",
        "We're going to represent a job as a vector in $\\mathcal{R}^5$"
      ],
      "metadata": {
        "id": "dBh_BF2Fm3Gw"
      }
    },
    {
      "cell_type": "code",
      "source": [
        "# Wage, Flexibility, Social, Kids, Security \n",
        "teacher = jnp.array([0.1, 0.8, 0.5, 1.0, 0.5])\n",
        "construction = jnp.array([0.5, 0.2, 1.0, 0.1, 0.5])\n",
        "gov_official = jnp.array([0.7, 0.2, 0.4, 0.2, 1.])\n",
        "data_scientist = jnp.array([0.9, 0.2, 0.4, 0.2, 0.3])\n",
        "designer = jnp.array([0.5, 0.3, 0.6, 0.3, 0.2])\n",
        "jobs = jnp.vstack((teacher, construction, gov_official, data_scientist, designer))\n",
        "\n",
        "\n",
        "# Wage, Flexibility, Social, Kids, Security \n",
        "teacher = jnp.array([0.1, 0.8, 0.5, 1.0, 0.5])\n",
        "construction = jnp.array([0.5, 0.4, 1.0, 0.1, 0.5])\n",
        "gov_official = jnp.array([0.7, 0.9, 0.4, 0.2, 1.])\n",
        "data_scientist = jnp.array([0.9, 0.9, 0.4, 0.2, 0.3])\n",
        "designer = jnp.array([0.5, 0.3, 0.6, 0.3, 0.2])\n",
        "jobs_post = jnp.vstack((teacher, construction, gov_official, data_scientist, designer))"
      ],
      "metadata": {
        "id": "3qwfzHEeiL0g"
      },
      "execution_count": 112,
      "outputs": []
    },
    {
      "cell_type": "code",
      "source": [
        "def preferences_fn(key):\n",
        "  return jax.random.uniform(key, shape=(len(teacher),), minval=0., maxval=1.)\n",
        "\n",
        "def job_value_fn(job, preferences):\n",
        "  return jnp.dot(job, preferences)\n",
        "\n",
        "def optimal_job_fn(jobs, preferences):\n",
        "  value_of_jobs = jax.vmap(partial(job_value_fn, preferences=preferences))(jobs)\n",
        "  return jnp.argmax(value_of_jobs) \n",
        "\n",
        "def f(jobs, key):\n",
        "  preferences = preferences_fn(key)\n",
        "  return optimal_job_fn(jobs, preferences)"
      ],
      "metadata": {
        "id": "IrJ4GBGakCcy"
      },
      "execution_count": 115,
      "outputs": []
    },
    {
      "cell_type": "code",
      "source": [
        "init_key = jax.random.PRNGKey(0)                                                # Initial key\n",
        "key_vec = jax.random.split(init_key, 1000)                                      # Split initial key to generate vector of keys\n",
        "f_jobs = partial(f, jobs)                                                  # Partially Evaluate Function \n",
        "f_jobs_vec = jax.vmap(f_jobs)                                                 # Vectorize the function\n",
        "selected_jobs = f_jobs_vec(key_vec)\n",
        "print(jnp.mean(jax.vmap(lambda x: x==0)(selected_jobs)))"
      ],
      "metadata": {
        "colab": {
          "base_uri": "https://localhost:8080/"
        },
        "id": "0219tVRHosV9",
        "outputId": "6a665ca8-cae0-453b-ff41-656957f84b3c"
      },
      "execution_count": 116,
      "outputs": [
        {
          "output_type": "stream",
          "name": "stdout",
          "text": [
            "0.65500003\n"
          ]
        }
      ]
    },
    {
      "cell_type": "code",
      "source": [
        "init_key = jax.random.PRNGKey(0)                                                # Initial key\n",
        "key_vec = jax.random.split(init_key, 1000)                                      # Split initial key to generate vector of keys\n",
        "f_jobs = partial(f, jobs_post)                                                  # Partially Evaluate Function \n",
        "f_jobs_vec = jax.vmap(f_jobs)                                                 # Vectorize the function\n",
        "selected_jobs = f_jobs_vec(key_vec)\n",
        "print(jnp.mean(jax.vmap(lambda x: x==0)(selected_jobs)))"
      ],
      "metadata": {
        "colab": {
          "base_uri": "https://localhost:8080/"
        },
        "id": "sYerdsJKxIZ5",
        "outputId": "7eb5ae5a-5eaa-46bf-bb1c-55572b84507a"
      },
      "execution_count": 117,
      "outputs": [
        {
          "output_type": "stream",
          "name": "stdout",
          "text": [
            "0.319\n"
          ]
        }
      ]
    },
    {
      "cell_type": "code",
      "source": [],
      "metadata": {
        "id": "weJ3gVxHxBFZ"
      },
      "execution_count": null,
      "outputs": []
    }
  ]
}