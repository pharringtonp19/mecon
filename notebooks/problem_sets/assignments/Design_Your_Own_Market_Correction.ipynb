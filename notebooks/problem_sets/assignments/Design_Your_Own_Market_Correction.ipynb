{
  "nbformat": 4,
  "nbformat_minor": 0,
  "metadata": {
    "colab": {
      "provenance": [],
      "collapsed_sections": [],
      "authorship_tag": "ABX9TyMM1hJ521YibDn52h+Cdvjs",
      "include_colab_link": true
    },
    "kernelspec": {
      "name": "python3",
      "display_name": "Python 3"
    },
    "language_info": {
      "name": "python"
    }
  },
  "cells": [
    {
      "cell_type": "markdown",
      "metadata": {
        "id": "view-in-github",
        "colab_type": "text"
      },
      "source": [
        "<a href=\"https://colab.research.google.com/github/pharringtonp19/mecon/blob/main/notebooks/problem_sets/assignments/Design_Your_Own_Market_Correction.ipynb\" target=\"_parent\"><img src=\"https://colab.research.google.com/assets/colab-badge.svg\" alt=\"Open In Colab\"/></a>"
      ]
    },
    {
      "cell_type": "code",
      "execution_count": 1,
      "metadata": {
        "id": "KuA1jGJHSgLh"
      },
      "outputs": [],
      "source": [
        "#@title Imports { display-mode: \"form\" }\n",
        "%%capture \n",
        "!pip install jaxopt\n",
        "\n",
        "import jax \n",
        "jax.config.update(\"jax_enable_x64\", True)\n",
        "import jax.numpy as jnp \n",
        "import jaxopt\n",
        "import matplotlib.pyplot as plt"
      ]
    },
    {
      "cell_type": "code",
      "source": [
        "#@title Inverse { display-mode: \"form\" }\n",
        "def inverse(f):\n",
        "\n",
        "  def inverse_fn(y):\n",
        "    \n",
        "    def closure(x,y):\n",
        "      return (f(x)-y)**2\n",
        "\n",
        "    solver = jaxopt.GradientDescent(fun=closure, maxiter=2000)\n",
        "    res = solver.run(jnp.ones(shape=()), y)\n",
        "    return res.params\n",
        "\n",
        "  return inverse_fn"
      ],
      "metadata": {
        "id": "zExZH4KRoJ_7"
      },
      "execution_count": 2,
      "outputs": []
    },
    {
      "cell_type": "code",
      "source": [
        "#@title Sigmoid Function { display-mode: \"form\" }\n",
        "xs = jnp.linspace(-3, 3, 100)\n",
        "ys = jax.vmap(jax.nn.sigmoid)(xs)\n",
        "plt.plot(xs, ys)\n",
        "plt.show()"
      ],
      "metadata": {
        "colab": {
          "base_uri": "https://localhost:8080/",
          "height": 282
        },
        "id": "PNf_wg7CAg42",
        "outputId": "05163b11-9637-458b-8c94-7d92e7c6c5ef"
      },
      "execution_count": 3,
      "outputs": [
        {
          "output_type": "stream",
          "name": "stderr",
          "text": [
            "WARNING:absl:No GPU/TPU found, falling back to CPU. (Set TF_CPP_MIN_LOG_LEVEL=0 and rerun for more info.)\n"
          ]
        },
        {
          "output_type": "display_data",
          "data": {
            "text/plain": [
              "<Figure size 432x288 with 1 Axes>"
            ],
            "image/png": "[encoded data removed]"
          },
          "metadata": {
            "needs_background": "light"
          }
        }
      ]
    },
    {
      "cell_type": "markdown",
      "source": [
        "In this problem set, we use the same setup as in class where we have sellers and consumers. We represent the willingness to pay under full information for the the seller (consumer) via a vector denoted by $xs(xc)$, where the first argument of the vector corresponds to their willingness to pay for a bad car and the second element corresponds to their willingness to pay for a good car. "
      ],
      "metadata": {
        "id": "5a-hYF2BCy4S"
      }
    },
    {
      "cell_type": "code",
      "source": [
        "xc = jnp.array([1200, 2400])  # Consumer's willingness to pay under full information\n",
        "xs = jnp.array([1000, 2000])  # Sellers's willingness to pay under full information \n",
        "u = lambda x: jnp.sqrt(x)    # The utility function"
      ],
      "metadata": {
        "id": "G8wOXxu7S1_H"
      },
      "execution_count": 4,
      "outputs": []
    },
    {
      "cell_type": "markdown",
      "source": [
        "**Note**: In python we can retreive an element of a vector by indexing the vector as follow. Counting in python starts at 0!"
      ],
      "metadata": {
        "id": "8qVzeYvWEIlO"
      }
    },
    {
      "cell_type": "code",
      "source": [
        "vector = jnp.array([2.3, 10.6, 13.1])\n",
        "vector[0] # 2.3\n",
        "vector[1] # 10.6 \n",
        "vector[2] # 13.1"
      ],
      "metadata": {
        "colab": {
          "base_uri": "https://localhost:8080/"
        },
        "id": "HCPJS5ZpEIEr",
        "outputId": "c28fabcb-5c89-4df8-89d3-2c0eed6049fe"
      },
      "execution_count": 5,
      "outputs": [
        {
          "output_type": "execute_result",
          "data": {
            "text/plain": [
              "DeviceArray(13.1, dtype=float64)"
            ]
          },
          "metadata": {},
          "execution_count": 5
        }
      ]
    },
    {
      "cell_type": "markdown",
      "source": [
        "We then define the consumer's value function, the consumer's willingness to pay function (wtp), and the supply function as follows. The new feature here is the supply function. As you will see it makes use of the function `jnp.where`. This function is equivalent to the following mathematical function: \n",
        "\n",
        "$$\n",
        "\\textrm{Supply}(\\textrm{price}, xs)= \n",
        "\\begin{cases}\n",
        "0.5, \\quad \\textrm{if price} \\geq xs[1]\\\\\n",
        "1, \\quad \\textrm{otherwise}\n",
        "\\end{cases}\n",
        "$$\n",
        "That is, if the price is greater than the seller's willingness to pay for a new car ($xs[1]$), then half of the cars in the market will be good cars and half the cars will be bad. Otherwise, all the cars will be bad. "
      ],
      "metadata": {
        "id": "peKQDirDEtKa"
      }
    },
    {
      "cell_type": "code",
      "source": [
        "def value(p, xc, u):\n",
        "  return p*u(xc[0]) + (1-p)*u(xc[1])\n",
        "\n",
        "def wtp(p, xc, u):\n",
        "  return inverse(u)(value(p, xc, u))\n",
        "\n",
        "def supply(price, xs):\n",
        "  return jnp.where(price >= xs[1], 0.5, 1.)"
      ],
      "metadata": {
        "id": "EMlXMCnGSkxJ"
      },
      "execution_count": 6,
      "outputs": []
    },
    {
      "cell_type": "markdown",
      "source": [
        "As discussed in class, the equilibrium price and probabily of a bad car (prob) can be computed by solving the following optimization problem. \n",
        "\n",
        "$$\\underset{\\textrm{prob}, p}{\\textrm{Solve}} \\ F_{X_c, X_s, u}(\\textrm{prob}, p) = 0 $$\n",
        "\n",
        "Equilibrium is defined as the root of this function $F$ which we define as follows. \n",
        "\n",
        "$$F_{X_s, X_c, u}(\\textrm{prob}, \\textrm{price}) = \\begin{bmatrix} \\textrm{price} - u^{-1} \\circ V(\\textrm{prob}, X_c, u) \\\\\n",
        "\\textrm{prob} - S(X_s, \\textrm{price})\n",
        "\\end{bmatrix}$$"
      ],
      "metadata": {
        "id": "nCPwIVwHGu9f"
      }
    },
    {
      "cell_type": "code",
      "source": [
        "def F(xc, xs, u, prob, price):\n",
        "  a = price - wtp(prob, xc, u)\n",
        "  b = (prob - supply(price, xs))/0.001\n",
        "  return jnp.array([a, b])"
      ],
      "metadata": {
        "id": "7ezSomq91kOF"
      },
      "execution_count": 7,
      "outputs": []
    },
    {
      "cell_type": "code",
      "source": [
        "#@title Solver-related Functions { display-mode: \"form\" }\n",
        "init_array = jnp.array([inverse(jax.nn.sigmoid)(.5), wtp(.5, xc, u)])\n",
        "def solve_model(f):\n",
        "  solver = jaxopt.GradientDescent(fun=f, maxiter=2000)\n",
        "  res = solver.run(init_array)\n",
        "  return res.params\n",
        "\n",
        "def f(z):\n",
        "  prob = jax.nn.sigmoid(z[0])\n",
        "  price = jnp.abs(z[1])\n",
        "  return jnp.linalg.norm(F(xc, xs, u, prob, price))"
      ],
      "metadata": {
        "id": "n7zGphveEq-B"
      },
      "execution_count": 8,
      "outputs": []
    },
    {
      "cell_type": "markdown",
      "source": [
        "Under the current market structure the equilibrium price and probability of a bad car are:\n",
        "\n"
      ],
      "metadata": {
        "id": "5ALhhXV_HK5m"
      }
    },
    {
      "cell_type": "code",
      "source": [
        "a, b = solve_model(f)\n",
        "print(f\"Probability of a Bad Car: {jnp.round(jax.nn.sigmoid(a), 4)}\\n\\nConsumer's willingness to pay: {jnp.floor(b)}\")"
      ],
      "metadata": {
        "colab": {
          "base_uri": "https://localhost:8080/"
        },
        "id": "3M2IfiVZA74R",
        "outputId": "36edbfd3-7e2b-4bcc-9dc7-b502f8fdd160"
      },
      "execution_count": 9,
      "outputs": [
        {
          "output_type": "stream",
          "name": "stdout",
          "text": [
            "Probability of a Bad Car: 1.0\n",
            "\n",
            "Consumer's willingness to pay: 1200.0\n"
          ]
        }
      ]
    },
    {
      "cell_type": "markdown",
      "source": [
        "### **Assignment**\n",
        "\n",
        "As discussed in class, the above is an example of market failure. That lack of information on behalf of the consumer drives the good cars out of the market. \n",
        "\n",
        "In this problem set, I would like you to propose a solution for this market failure. Either introduce some type of government policy, create a new type of firm, or alter the choice sets of the existing agents (consumers/sellers). Please explain in words how your proposal corrects for the market failure. Are there any unintended consequences of this proposal? Who stands to benefit the most from it?\n",
        "\n",
        "\n",
        "### **Bonus** \n",
        "See if you can implement your proposal in python. Note, this isn't something I would ask you on a midterm. That said, it can be a great learning experience and help you better understand exactly how models work!"
      ],
      "metadata": {
        "id": "0bdsmtghO_dd"
      }
    },
    {
      "cell_type": "code",
      "source": [],
      "metadata": {
        "id": "K2wEyew_R9pk"
      },
      "execution_count": null,
      "outputs": []
    }
  ]
}