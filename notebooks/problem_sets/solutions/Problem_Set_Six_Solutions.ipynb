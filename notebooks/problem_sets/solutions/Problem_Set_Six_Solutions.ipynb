{
  "nbformat": 4,
  "nbformat_minor": 0,
  "metadata": {
    "colab": {
      "provenance": [],
      "collapsed_sections": [],
      "authorship_tag": "ABX9TyOEyfSFEWEK8YWddaTkY2cr",
      "include_colab_link": true
    },
    "kernelspec": {
      "name": "python3",
      "display_name": "Python 3"
    },
    "language_info": {
      "name": "python"
    }
  },
  "cells": [
    {
      "cell_type": "markdown",
      "metadata": {
        "id": "view-in-github",
        "colab_type": "text"
      },
      "source": [
        "<a href=\"https://colab.research.google.com/github/pharringtonp19/mecon/blob/main/notebooks/problem_sets/solutions/Problem_Set_Six_Solutions.ipynb\" target=\"_parent\"><img src=\"https://colab.research.google.com/assets/colab-badge.svg\" alt=\"Open In Colab\"/></a>"
      ]
    },
    {
      "cell_type": "code",
      "execution_count": 1,
      "metadata": {
        "id": "aue7FZsFh1pF"
      },
      "outputs": [],
      "source": [
        "#@title Imports { display-mode: \"form\" }\n",
        "%%capture \n",
        "!pip install jaxopt\n",
        "import jax \n",
        "jax.config.update(\"jax_enable_x64\", True)\n",
        "import jax.numpy as jnp \n",
        "import matplotlib.pyplot as plt \n",
        "from functools import partial "
      ]
    },
    {
      "cell_type": "markdown",
      "source": [
        "We assume that workers differ in some way which we denote by $t$. We representa this mathematically by saying that the type of the work (t) follows a uniform distribution **parameterized** by $(m,c)$ as follows:\n",
        "\n",
        "$$t \\sim U(m - 3c, m + 3c)$$\n",
        "\n",
        "We construct a function that allows us to sample from this distribution below."
      ],
      "metadata": {
        "id": "35KRWYjdrIhq"
      }
    },
    {
      "cell_type": "code",
      "source": [
        "def sample_worker_type(m, c, key): \n",
        "  return jax.random.uniform(key, minval=m-c*3, maxval=m+c*3)"
      ],
      "metadata": {
        "id": "Pp4CGMi-q45n"
      },
      "execution_count": 2,
      "outputs": []
    },
    {
      "cell_type": "markdown",
      "source": [
        "Let's partially evalute the above function at $m=5$ and $c=2$ and refer to this function as $f$. By doing so, we now sample multiple individuals from the same distribution"
      ],
      "metadata": {
        "id": "6d48GpFysMYT"
      }
    },
    {
      "cell_type": "code",
      "source": [
        "f = partial(sample_worker_type, .5, .1) # Partially Evaluate Function "
      ],
      "metadata": {
        "id": "cnVl7AucsLyy"
      },
      "execution_count": 3,
      "outputs": []
    },
    {
      "cell_type": "markdown",
      "source": [
        "We know that if we pass in a `key` to f, we will sample one worker's type. To sample multiple individuals we proceed as follows:\n",
        "\n",
        "\n",
        "1.   Vectorize the function $f$\n",
        "2.   Pass in a vector of keys\n",
        "\n"
      ],
      "metadata": {
        "id": "-OEmhjBntN34"
      }
    },
    {
      "cell_type": "code",
      "source": [
        "vector_of_keys = jax.random.split(jax.random.PRNGKey(0), 2000)\n",
        "vectorized_f = jax.vmap(f)\n",
        "samples = vectorized_f(vector_of_keys)"
      ],
      "metadata": {
        "id": "FCPr6pKBtNLF",
        "colab": {
          "base_uri": "https://localhost:8080/"
        },
        "outputId": "4e714139-ad7c-43d0-db41-668fb6cec093"
      },
      "execution_count": 4,
      "outputs": [
        {
          "output_type": "stream",
          "name": "stderr",
          "text": [
            "WARNING:absl:No GPU/TPU found, falling back to CPU. (Set TF_CPP_MIN_LOG_LEVEL=0 and rerun for more info.)\n"
          ]
        }
      ]
    },
    {
      "cell_type": "code",
      "source": [
        "#@title Samples of Workers' Types { display-mode: \"form\" }\n",
        "plt.hist(samples, edgecolor='black')\n",
        "plt.xlabel('Worker Type', size=14)\n",
        "plt.title('Count', size=14, loc='left') \n",
        "plt.show()"
      ],
      "metadata": {
        "colab": {
          "base_uri": "https://localhost:8080/",
          "height": 300
        },
        "id": "028pwvp3tuPc",
        "outputId": "dac31a19-272d-48bd-c109-f2e5043fc610"
      },
      "execution_count": 5,
      "outputs": [
        {
          "output_type": "display_data",
          "data": {
            "text/plain": [
              "<Figure size 432x288 with 1 Axes>"
            ],
            "image/png": "[encoded data removed]"
          },
          "metadata": {
            "needs_background": "light"
          }
        }
      ]
    },
    {
      "cell_type": "markdown",
      "source": [
        "\\begin{align*}\n",
        "\\textrm{Cost_of_license}(t) = c_0 t^{-a} + c_1\n",
        "\\end{align*}"
      ],
      "metadata": {
        "id": "lu7EF7OBpWN9"
      }
    },
    {
      "cell_type": "code",
      "source": [
        "#@title Cost of License { display-mode: \"form\" }\n",
        "def cost_license(c0, c1, a, t):\n",
        "  \"\"\" \n",
        "  - c0, c1, a parameterize the cost function of a getting a license\n",
        "  - t denotes the worker's type\n",
        "  \"\"\"\n",
        "  return c0 + c1*(1/(t**a))"
      ],
      "metadata": {
        "id": "nP3Sxry3h5Ko"
      },
      "execution_count": 16,
      "outputs": []
    },
    {
      "cell_type": "code",
      "source": [
        "#@title Cost of License { display-mode: \"form\" }\n",
        "c0, c1 = 0., 1. \n",
        "ws = jnp.linspace(0, 1, 100)\n",
        "for i in jnp.linspace(0.1, 0.5, 5):\n",
        "  ys = jax.vmap(partial(cost_license, c0, c1, i))(ws)\n",
        "  plt.plot(ws, ys, label=i)\n",
        "plt.title('Cost of Getting a License', loc='left', size=14)\n",
        "plt.xlabel('Worker Type',size=14)\n",
        "plt.legend(frameon=False, title='a')\n",
        "plt.show()"
      ],
      "metadata": {
        "colab": {
          "base_uri": "https://localhost:8080/",
          "height": 300
        },
        "id": "gS6nWAVjluW9",
        "outputId": "931fd372-6004-4fe6-b414-1f9e6b5db125"
      },
      "execution_count": 17,
      "outputs": [
        {
          "output_type": "display_data",
          "data": {
            "text/plain": [
              "<Figure size 432x288 with 1 Axes>"
            ],
            "image/png": "[encoded data removed]"
          },
          "metadata": {
            "needs_background": "light"
          }
        }
      ]
    },
    {
      "cell_type": "markdown",
      "source": [
        "Let's assume that a firm only observes wether or not an individual has a license. Then the wage offered by the firm can be expressed as follows:\n",
        "\n",
        "\\begin{align*}\n",
        "\\textrm{wage}(\\textrm{license}) = \\begin{cases} w0 \\quad \\textrm{if} \\ \\textrm{license} = 0 \\\\ \n",
        "w1 \\quad \\textrm{if} \\ \\textrm{license} = 1\\end{cases}\n",
        "\\end{align*}\n",
        "\n",
        "**Note**: The domain for the wage function is a finite set (there are only two elments in it $\\{0, 1\\}$), therefore we can represent this function as a vector where $w[0]$ can be thought of as evaluating the wage function at $0$. "
      ],
      "metadata": {
        "id": "KA8-Iah1vW5p"
      }
    },
    {
      "cell_type": "markdown",
      "source": [
        "### **Question 1**:\n",
        "Write down the optimal action of the worker as a function of the parameters of the cost of license function, the wage vector and worker type\n"
      ],
      "metadata": {
        "id": "VqlpHNfpxyN1"
      }
    },
    {
      "cell_type": "code",
      "source": [
        "def optimal_action_worker(c0, c1, a, w, t):\n",
        "  return jnp.where(w[1] - cost_license(c0, c1, a, t) > w[0], 1., 0. )"
      ],
      "metadata": {
        "id": "DvhC6QeWurXz"
      },
      "execution_count": 20,
      "outputs": []
    },
    {
      "cell_type": "markdown",
      "source": [
        "### **Question 2**:\n",
        "\n",
        "Play around with the parameters of the the cost and wage functions to get some intuition for how the influence the optimal action\n",
        "\n"
      ],
      "metadata": {
        "id": "Fj5B8arIy2CF"
      }
    },
    {
      "cell_type": "code",
      "source": [
        "#@title Graph of Optimal Action { display-mode: \"form\" }\n",
        "c0, c1, a = 0., 1., 0.5   # Parameters for the Cost of Effort Function\n",
        "w = jnp.array([10.5, 12])    # Wage function\n",
        "\n",
        "# Vectorized Action Function\n",
        "action_fn = partial(optimal_action_worker, c0, c1, a, w)\n",
        "\n",
        "# Vector of Worker Types\n",
        "ts = jnp.linspace(0.1, 0.9, 100)\n",
        "\n",
        "# Corresponding Action for Each Worker Type \n",
        "actions = jax.vmap(action_fn)(ts)\n",
        "\n",
        "# Graph\n",
        "plt.plot(ts, actions)\n",
        "plt.title('Action', size=14, loc='left')\n",
        "plt.xlabel('Worker Type', size=14)\n",
        "plt.show()"
      ],
      "metadata": {
        "id": "AGT0suqdkRZx",
        "colab": {
          "base_uri": "https://localhost:8080/",
          "height": 300
        },
        "outputId": "d2a36b33-bd70-49e4-b1c7-96d0dfbbb5ab"
      },
      "execution_count": 21,
      "outputs": [
        {
          "output_type": "display_data",
          "data": {
            "text/plain": [
              "<Figure size 432x288 with 1 Axes>"
            ],
            "image/png": "[encoded data removed]"
          },
          "metadata": {
            "needs_background": "light"
          }
        }
      ]
    },
    {
      "cell_type": "markdown",
      "source": [
        "### **Question 3**\n",
        "\n",
        "We want to determine the worker type where the worker would be indifferent between getting and not getting a license. \n",
        "\n",
        "We can implicitly define this value as the root of a function $F$. Please define $F$. "
      ],
      "metadata": {
        "id": "4ICWeTJh5xqp"
      }
    },
    {
      "cell_type": "code",
      "source": [
        "#@title Solving the Root\n",
        "from jaxopt import Bisection\n",
        "\n",
        "def F(t, c0, c1, a, w):\n",
        "  return (w[1] - cost_licsense(c0,c1,a, t)) - w[0]\n",
        "\n",
        "c0, c1, a = 0., 1., 0.5   # Parameters for the Cost of Effort Function\n",
        "w = jnp.array([10.5, 12])    # Wage function\n",
        "\n",
        "def root(c0, c1, a, w):\n",
        "  bisec = Bisection(optimality_fun=F, lower=0., upper=1.)\n",
        "  return bisec.run(c0=c0, c1=c1, a=a, w=w).params\n",
        "\n",
        "root(c0, c1, a, w)"
      ],
      "metadata": {
        "colab": {
          "base_uri": "https://localhost:8080/"
        },
        "cellView": "form",
        "id": "BnSza20d50SP",
        "outputId": "8988decc-293c-42b5-b7eb-854e6d293c8a"
      },
      "execution_count": 22,
      "outputs": [
        {
          "output_type": "execute_result",
          "data": {
            "text/plain": [
              "DeviceArray(0.44444275, dtype=float64)"
            ]
          },
          "metadata": {},
          "execution_count": 22
        }
      ]
    },
    {
      "cell_type": "markdown",
      "source": [
        "#**The Firm Problem**\n",
        "We begin by writing identifying the choice set of the firm and the objective function. \n",
        "\\begin{align*}\n",
        "\\underset{\\textrm{wage_fn}}{\\textrm{maximize}} \\ &\\mathbb{E}\\big[\\textrm{Profit}(\\textrm{wage_fn})\\big] \n",
        "\\end{align*}"
      ],
      "metadata": {
        "id": "yvsdlOpg8F61"
      }
    },
    {
      "cell_type": "markdown",
      "source": [
        "Expectations are taken with respect to some distribution. In this context, the underlying distribution is the the distribution over worker types. \n",
        "\n",
        "\\begin{align*}\n",
        "t \\sim U[m-3c, m + 3c] \n",
        "\\end{align*}"
      ],
      "metadata": {
        "id": "9X_CUg6F8HN4"
      }
    },
    {
      "cell_type": "markdown",
      "source": [
        "That is: \n",
        "\n",
        "$$t \\longmapsto \\textrm{Profit}(\\textrm{wage_fn})(t)$$"
      ],
      "metadata": {
        "id": "zkJWGQEx8KWY"
      }
    },
    {
      "cell_type": "markdown",
      "source": [
        "We can express $\\textrm{Profit}(\\textrm{wage_fn})$ as the addition of two random variables.\n",
        "\n",
        "\\begin{align*}\n",
        "t \\longmapsto \\textrm{Profit}(\\textrm{wage_fn})(t) &= \\textrm{Revenue}(\\textrm{wage_fn})(t) - \\textrm{Cost}(\\textrm{wage_fn})(t)\n",
        "\\end{align*}"
      ],
      "metadata": {
        "id": "kv-Ic9z_8Nzu"
      }
    },
    {
      "cell_type": "markdown",
      "source": [
        "We can express $\\textrm{Revenue}(\\textrm{wage_fn})$ as follows\n",
        "\n",
        "\\begin{align*}\n",
        "t \\longmapsto \\textrm{Revenue}(\\textrm{wage_fn})(t) &= D^{-1}(\\textrm{Quantity}(\\textrm{wage_fn})(t))\\textrm{Quantity}(\\textrm{wage_fn})(t) \\\\ \n",
        "\\end{align*}"
      ],
      "metadata": {
        "id": "N0gEFjmF8Rg-"
      }
    },
    {
      "cell_type": "markdown",
      "source": [
        "We can express $\\textrm{Quantity}(\\textrm{wage_fn})$ as follows\n",
        "\n",
        "\\begin{align*}\n",
        "t \\longmapsto \\textrm{Quantity}(\\textrm{wage_fn})(t) := \\begin{cases} g(t) \\quad \\textrm{wage_fn}(l^*(\\textrm{wage_fn},t)) - \\textrm{cost_license}(t)l^*(\\textrm{wage_fn},t) >= \\textrm{outside_wage_fn}(l^*(\\textrm{wage_fn},t))\\\\ \n",
        "0 \\quad \\textrm{otherwise}\n",
        "\\end{cases}\n",
        "\\end{align*}"
      ],
      "metadata": {
        "id": "upsMxW058WTJ"
      }
    },
    {
      "cell_type": "markdown",
      "source": [
        "\n",
        "\n",
        "\n",
        "\n",
        "\n",
        "\n",
        "\n",
        "\n",
        "\n",
        "\n",
        "We can express $\\textrm{Cost}(\\textrm{wage_fn})$ as follows\n",
        "\\begin{align*}\n",
        "t ⟼ \\textrm{Cost}(\\textrm{wage_fn})(t) =  \\begin{cases}\\textrm{wage_fn}(0) \\quad \\textrm{if} \\ l^*(\\textrm{wage_fn}, t) = 0 \\\\ \n",
        "\\textrm{wage_fn}(1) \\quad \\textrm{if} \\ l^*(\\textrm{wage_fn}, t) = 1 \\\\ \n",
        "\\end{cases}\n",
        "\\end{align*}\n",
        "\n"
      ],
      "metadata": {
        "id": "guYmcRMz84_2"
      }
    },
    {
      "cell_type": "code",
      "source": [
        "l_star = lambda w, t: optimal_action_worker(c0, c1, a, w, t)"
      ],
      "metadata": {
        "id": "ZgZEv2Yv9H6s"
      },
      "execution_count": 23,
      "outputs": []
    },
    {
      "cell_type": "code",
      "source": [
        "def g(t):\n",
        "  \"\"\"Productivity Function\"\"\"\n",
        "  return t \n",
        "\n",
        "# Outside Wage Function\n",
        "outside_wage = jnp.array([2., 4.])"
      ],
      "metadata": {
        "id": "c6P-w83Y93tO"
      },
      "execution_count": 74,
      "outputs": []
    },
    {
      "cell_type": "code",
      "source": [
        "def work(w, t):\n",
        "  license = l_star(w, t)\n",
        "  net_gain = jnp.where(license==1, w[1] - cost_license(c0, c1, a, t) - outside_wage[1], w[0] - outside_wage[0])\n",
        "  return jnp.where(net_gain>=0., 1., 0.)"
      ],
      "metadata": {
        "id": "dP5btrIwAzUi"
      },
      "execution_count": 75,
      "outputs": []
    },
    {
      "cell_type": "code",
      "source": [
        "def cost(w, t):\n",
        "  \"\"\"Cost Function\"\"\"\n",
        "  cost_to_employ = jnp.where(l_star(w, t) ==1., w[1], w[0])\n",
        "  return jnp.where(work(w, t) ==1., cost_to_employ, 0.)"
      ],
      "metadata": {
        "id": "bcwdoV92vA_I"
      },
      "execution_count": 76,
      "outputs": []
    },
    {
      "cell_type": "code",
      "source": [
        "def quantity(w, t):\n",
        "  return jnp.where(work(w, t) ==1., g(t), 0.)"
      ],
      "metadata": {
        "id": "vD1yfh089Gj4"
      },
      "execution_count": 77,
      "outputs": []
    },
    {
      "cell_type": "code",
      "source": [
        "def price(q):\n",
        "  return 15. "
      ],
      "metadata": {
        "id": "Om6nkjXsASJK"
      },
      "execution_count": 78,
      "outputs": []
    },
    {
      "cell_type": "code",
      "source": [
        "def revenue(w, t):\n",
        "  q = quantity(w, t)\n",
        "  return price(q)*q # Why don't we need to multiply by work status?"
      ],
      "metadata": {
        "id": "ze_YgkO5AaR_"
      },
      "execution_count": 79,
      "outputs": []
    },
    {
      "cell_type": "code",
      "source": [
        "def profit(w, t):\n",
        "  return revenue(w, t) - cost(w, t)\n",
        "\n",
        "def expected_profit(w):\n",
        "  ts = jax.vmap(f)(jax.random.split(jax.random.PRNGKey(0), 1000))\n",
        "  partial_profit = partial(profit, w)\n",
        "  ps = jax.vmap(partial_profit)(ts)\n",
        "  return jnp.mean(ps)"
      ],
      "metadata": {
        "id": "gG2aVQN4CERV"
      },
      "execution_count": 80,
      "outputs": []
    },
    {
      "cell_type": "code",
      "source": [
        "def print_summary(w, t):\n",
        "  print(f\"Work Status:\\t {work(w, t)}\")\n",
        "  print(f\"License Status:\\t {l_star(w, t)}\")\n",
        "  print(f\"Cost:\\t\\t {cost(w, t)}\")\n",
        "  print(f\"Quantity:\\t {quantity(w, t)}\")\n",
        "  print(f\"Revenue:\\t {revenue(w, t)}\")\n",
        "  print(f\"Profit:\\t\\t {profit(w, t)}\")\n",
        "  print(f\"Expected Profit:\\t\\t {expected_profit(w)}\")"
      ],
      "metadata": {
        "id": "ZQgBok509bHe"
      },
      "execution_count": 81,
      "outputs": []
    },
    {
      "cell_type": "code",
      "source": [
        "print_summary(jnp.array([0., 10.]), .5)"
      ],
      "metadata": {
        "id": "BX2YthBCAFa3",
        "outputId": "4a14a586-6776-42c9-f952-93cebbc913c6",
        "colab": {
          "base_uri": "https://localhost:8080/"
        }
      },
      "execution_count": 87,
      "outputs": [
        {
          "output_type": "stream",
          "name": "stdout",
          "text": [
            "Work Status:\t 1.0\n",
            "License Status:\t 1.0\n",
            "Cost:\t\t 10.0\n",
            "Quantity:\t 0.5\n",
            "Revenue:\t 7.5\n",
            "Profit:\t\t -2.5\n",
            "Expected Profit:\t\t -2.4944823629254897\n"
          ]
        }
      ]
    }
  ]
}