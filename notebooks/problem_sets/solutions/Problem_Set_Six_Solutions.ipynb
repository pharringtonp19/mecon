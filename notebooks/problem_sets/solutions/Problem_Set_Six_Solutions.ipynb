{
  "nbformat": 4,
  "nbformat_minor": 0,
  "metadata": {
    "colab": {
      "provenance": [],
      "collapsed_sections": [],
      "authorship_tag": "ABX9TyObhkLrgsTtYpO3OSeV0llV",
      "include_colab_link": true
    },
    "kernelspec": {
      "name": "python3",
      "display_name": "Python 3"
    },
    "language_info": {
      "name": "python"
    }
  },
  "cells": [
    {
      "cell_type": "markdown",
      "metadata": {
        "id": "view-in-github",
        "colab_type": "text"
      },
      "source": [
        "<a href=\"https://colab.research.google.com/github/pharringtonp19/mecon/blob/main/notebooks/problem_sets/solutions/Problem_Set_Six_Solutions.ipynb\" target=\"_parent\"><img src=\"https://colab.research.google.com/assets/colab-badge.svg\" alt=\"Open In Colab\"/></a>"
      ]
    },
    {
      "cell_type": "code",
      "execution_count": 34,
      "metadata": {
        "id": "aue7FZsFh1pF"
      },
      "outputs": [],
      "source": [
        "#@title Imports { display-mode: \"form\" }\n",
        "import jax \n",
        "import jax.numpy as jnp \n",
        "import matplotlib.pyplot as plt \n",
        "from functools import partial "
      ]
    },
    {
      "cell_type": "markdown",
      "source": [
        "We assume that workers differ in some way which we denote by $t$. We representa this mathematically by saying that the type of the work (t) follows a uniform distribution **parameterized** by $(m,c)$ as follows:\n",
        "\n",
        "$$t \\sim U(m - 3c, m + 3c)$$\n",
        "\n",
        "We construct a function that allows us to sample from this distribution below."
      ],
      "metadata": {
        "id": "35KRWYjdrIhq"
      }
    },
    {
      "cell_type": "code",
      "source": [
        "def sample_worker_type(m, c, key): \n",
        "  return jax.random.uniform(key, minval=m-c*3, maxval=m+c*3)"
      ],
      "metadata": {
        "id": "Pp4CGMi-q45n"
      },
      "execution_count": 53,
      "outputs": []
    },
    {
      "cell_type": "markdown",
      "source": [
        "Let's partially evalute the above function at $m=5$ and $c=2$ and refer to this function as $f$. By doing so, we now sample multiple individuals from the same distribution"
      ],
      "metadata": {
        "id": "6d48GpFysMYT"
      }
    },
    {
      "cell_type": "code",
      "source": [
        "f = partial(sample_worker_type, 5., 2.) # Partially Evaluate Function "
      ],
      "metadata": {
        "id": "cnVl7AucsLyy"
      },
      "execution_count": 57,
      "outputs": []
    },
    {
      "cell_type": "markdown",
      "source": [
        "We know that if we pass in a `key` to f, we will sample one worker's type. To sample multiple individuals we proceed as follows:\n",
        "\n",
        "\n",
        "1.   Vectorize the function $f$\n",
        "2.   Pass in a vector of keys\n",
        "\n"
      ],
      "metadata": {
        "id": "-OEmhjBntN34"
      }
    },
    {
      "cell_type": "code",
      "source": [
        "vector_of_keys = jax.random.split(jax.random.PRNGKey(0), 2000)\n",
        "vectorized_f = jax.vmap(f)\n",
        "samples = vectorized_f(vector_of_keys)"
      ],
      "metadata": {
        "id": "FCPr6pKBtNLF"
      },
      "execution_count": 63,
      "outputs": []
    },
    {
      "cell_type": "code",
      "source": [
        "#@title Samples of Workers' Types { display-mode: \"form\" }\n",
        "plt.hist(samples, edgecolor='black')\n",
        "plt.xlabel('Worker Type', size=14)\n",
        "plt.title('Count', size=14, loc='left') \n",
        "plt.show()"
      ],
      "metadata": {
        "colab": {
          "base_uri": "https://localhost:8080/",
          "height": 300
        },
        "id": "028pwvp3tuPc",
        "outputId": "123fb392-7b74-44dc-952a-2faa17d2da74"
      },
      "execution_count": 65,
      "outputs": [
        {
          "output_type": "display_data",
          "data": {
            "text/plain": [
              "<Figure size 432x288 with 1 Axes>"
            ],
            "image/png": "[encoded data removed]"
          },
          "metadata": {
            "needs_background": "light"
          }
        }
      ]
    },
    {
      "cell_type": "markdown",
      "source": [
        "\\begin{align*}\n",
        "\\textrm{Cost_of_license}(t) = c_0 t^{-a} + c_1\n",
        "\\end{align*}"
      ],
      "metadata": {
        "id": "lu7EF7OBpWN9"
      }
    },
    {
      "cell_type": "code",
      "source": [
        "#@title Cost of License { display-mode: \"form\" }\n",
        "def cost_licsense(c0, c1, a, t):\n",
        "  \"\"\" \n",
        "  - c0, c1, a parameterize the cost function of a getting a license\n",
        "  - t denotes the worker's type\n",
        "  \"\"\"\n",
        "  return c0 + c1*(1/(t**a))"
      ],
      "metadata": {
        "id": "nP3Sxry3h5Ko"
      },
      "execution_count": 66,
      "outputs": []
    },
    {
      "cell_type": "code",
      "source": [
        "<font size=\"4\" color=\"orange\">QUESTION</font>: Please write out the `optimal_action_worker` as a function of the parameters of the `cost_license` function and <font size=\"4\" color=\"orange\">QUESTION</font>: Please write out the `optimal_action_worker` as a function of the parameters of the `cost_license` function and <font size=\"4\" color=\"orange\">QUESTION</font>: Please write out the `optimal_action_worker` as a function of the parameters of the `cost_license` function and ### **Part 3  (<font size=\"4\" color=\"blue\">Insurance Market</font>)**### **Part 3  (<font size=\"4\" color=\"blue\">Insurance Market</font>)**### **Part 3  (<font size=\"4\" color=\"blue\">Insurance Market</font>)**the### **Part 3  (<font size=\"4\" color=\"blue\">Insurance Market</font>)**<666666666#@title Plot { display-mode: \"form\" }\n",
        "c0, c1 = 0., 1. \n",
        "ws = jnp.linspace(0, 1, 100)\n",
        "for i in jnp.linspace(0.1, 0.5, 5):\n",
        "  ys = jax.vmap(partial(cost_licsense, c0, c1, i))(ws)\n",
        "  plt.plot(ws, ys, label=i)\n",
        "plt.title('Cost of Getting a License', loc='left', size=14)\n",
        "plt.xlabel('Worker Type',size=14)\n",
        "plt.legend(frameon=False, title='a')\n",
        "plt.show()"
      ],
      "metadata": {
        "colab": {
          "base_uri": "https://localhost:8080/",
          "height": 300
        },
        "id": "gS6nWAVjluW9",
        "outputId": "f4be4e9f-3de3-47d7-dafd-e769d9cc5fce"
      },
      "execution_count": 67,
      "outputs": [
        {
          "output_type": "display_data",
          "data": {
            "text/plain": [
              "<Figure size 432x288 with 1 Axes>"
            ],
            "image/png": "[encoded data removed]"
          },
          "metadata": {
            "needs_background": "light"
          }
        }
      ]
    },
    {
      "cell_type": "markdown",
      "source": [
        "Let's assume that a firm only observes wether or not an individual has a license. Then the wage offered by the firm can be expressed as follows:\n",
        "\n",
        "\\begin{align*}\n",
        "\\textrm{wage}(\\textrm{license}) = \\begin{cases} w0 \\quad \\textrm{if} \\ \\textrm{license} = 0 \\\\ \n",
        "w1 \\quad \\textrm{if} \\ \\textrm{license} = 1\\end{cases}\n",
        "\\end{align*}\n",
        "\n",
        "**Note**: The domain for the wage function is a finite set (there are only two elments in it $\\{0, 1\\}$), therefore we can represent this function as a vector where $w[0]$ can be thought of as evaluating the wage function at $0$. "
      ],
      "metadata": {
        "id": "KA8-Iah1vW5p"
      }
    },
    {
      "cell_type": "markdown",
      "source": [],
      "metadata": {
        "id": "VqlpHNfpxyN1"
      }
    },
    {
      "cell_type": "code",
      "source": [
        "def optimal_action_worker(c0, c1, a, w, t):\n",
        "  return jnp.where(w[1] - cost_licsense(c0, c1, a, t) > w[0], 1., 0. )"
      ],
      "metadata": {
        "id": "DvhC6QeWurXz"
      },
      "execution_count": 69,
      "outputs": []
    },
    {
      "cell_type": "code",
      "source": [
        "  "
      ],
      "metadata": {
        "id": "AGT0suqdkRZx"
      },
      "execution_count": null,
      "outputs": []
    },
    {
      "cell_type": "markdown",
      "source": [
        "\\begin{align*}\n",
        "\\textrm{Worker's Choice Set}: \\{\\textrm{License}, \\textrm{No License} \\}\n",
        "\\end{align*}"
      ],
      "metadata": {
        "id": "pVZj7a4GjHOi"
      }
    },
    {
      "cell_type": "code",
      "source": [
        "def cost_of_license(ctype_worker):\n",
        "  return \n"
      ],
      "metadata": {
        "colab": {
          "base_uri": "https://localhost:8080/"
        },
        "id": "SjRt8gDmiet5",
        "outputId": "e4ca2d15-cea9-4868-c29d-16c61a5e4915"
      },
      "execution_count": 14,
      "outputs": [
        {
          "output_type": "stream",
          "name": "stdout",
          "text": [
            "1.0\n",
            "3.0\n"
          ]
        }
      ]
    },
    {
      "cell_type": "code",
      "source": [],
      "metadata": {
        "id": "WeL_WEu0iyYI"
      },
      "execution_count": null,
      "outputs": []
    }
  ]
}