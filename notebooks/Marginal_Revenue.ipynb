{
  "nbformat": 4,
  "nbformat_minor": 0,
  "metadata": {
    "colab": {
      "provenance": [],
      "collapsed_sections": [],
      "authorship_tag": "ABX9TyM6e0p2BhzqpICI2514A8Pc",
      "include_colab_link": true
    },
    "kernelspec": {
      "name": "python3",
      "display_name": "Python 3"
    },
    "language_info": {
      "name": "python"
    }
  },
  "cells": [
    {
      "cell_type": "markdown",
      "metadata": {
        "id": "view-in-github",
        "colab_type": "text"
      },
      "source": [
        "<a href=\"https://colab.research.google.com/github/pharringtonp19/mecon/blob/main/notebooks/Marginal_Revenue.ipynb\" target=\"_parent\"><img src=\"https://colab.research.google.com/assets/colab-badge.svg\" alt=\"Open In Colab\"/></a>"
      ]
    },
    {
      "cell_type": "code",
      "execution_count": 1,
      "metadata": {
        "id": "0PgM1GffVUgg"
      },
      "outputs": [],
      "source": [
        "%%capture \n",
        "\n",
        "!pip install jaxopt"
      ]
    },
    {
      "cell_type": "code",
      "source": [
        "import jax \n",
        "jax.config.update(\"jax_enable_x64\", True)\n",
        "import jax.numpy as jnp \n",
        "import jaxopt \n",
        "import matplotlib.pyplot as plt "
      ],
      "metadata": {
        "id": "cDM1pW-JVWgz"
      },
      "execution_count": 2,
      "outputs": []
    },
    {
      "cell_type": "code",
      "source": [
        "def demand(p):\n",
        "  return 12 - p**0.7 "
      ],
      "metadata": {
        "id": "Fs9VaurUVgrI"
      },
      "execution_count": 3,
      "outputs": []
    },
    {
      "cell_type": "code",
      "source": [
        "ps = jnp.linspace(0, 10, 100)\n",
        "qs = jax.vmap(demand)(ps)"
      ],
      "metadata": {
        "colab": {
          "base_uri": "https://localhost:8080/"
        },
        "id": "zncGLDyEVpIr",
        "outputId": "7509fafb-b112-4092-fda6-b8f7597ca0c9"
      },
      "execution_count": 4,
      "outputs": [
        {
          "output_type": "stream",
          "name": "stderr",
          "text": [
            "WARNING:absl:No GPU/TPU found, falling back to CPU. (Set TF_CPP_MIN_LOG_LEVEL=0 and rerun for more info.)\n"
          ]
        }
      ]
    },
    {
      "cell_type": "code",
      "source": [
        "plt.plot(qs, ps)\n",
        "plt.title('Price', loc='left')\n",
        "plt.xlabel('Quantity')\n",
        "plt.show()"
      ],
      "metadata": {
        "colab": {
          "base_uri": "https://localhost:8080/",
          "height": 295
        },
        "id": "NcK2OK0SVtHv",
        "outputId": "768a2656-b8f4-4ba1-fde6-0643025aaa63"
      },
      "execution_count": 5,
      "outputs": [
        {
          "output_type": "display_data",
          "data": {
            "text/plain": [
              "<Figure size 432x288 with 1 Axes>"
            ],
            "image/png": "[encoded data removed]"
          },
          "metadata": {
            "needs_background": "light"
          }
        }
      ]
    },
    {
      "cell_type": "code",
      "source": [
        "def inverse(f):\n",
        "\n",
        "  def wrapper(q):\n",
        "    \n",
        "    def closure(p, q):\n",
        "      return (f(p)-q)**2\n",
        "\n",
        "    solver = jaxopt.GradientDescent(fun=closure, maxiter=2000)\n",
        "    res = solver.run(8., q)\n",
        "    return res.params\n",
        "\n",
        "  return wrapper "
      ],
      "metadata": {
        "id": "-uqkur0gVvXX"
      },
      "execution_count": 26,
      "outputs": []
    },
    {
      "cell_type": "code",
      "source": [
        "demand(inverse(demand)(6.))"
      ],
      "metadata": {
        "colab": {
          "base_uri": "https://localhost:8080/"
        },
        "id": "ir3td5F9WlKs",
        "outputId": "ea06950c-6459-47bc-fe2f-ccef4e6fddf7"
      },
      "execution_count": 27,
      "outputs": [
        {
          "output_type": "execute_result",
          "data": {
            "text/plain": [
              "DeviceArray(5.9999511, dtype=float64, weak_type=True)"
            ]
          },
          "metadata": {},
          "execution_count": 27
        }
      ]
    },
    {
      "cell_type": "code",
      "source": [
        "revenue = lambda q: inverse(demand)(q)*q"
      ],
      "metadata": {
        "id": "tQWYqy-tXQZd"
      },
      "execution_count": 28,
      "outputs": []
    },
    {
      "cell_type": "code",
      "source": [
        "marginal_revenue = jax.grad(revenue)"
      ],
      "metadata": {
        "id": "vZ-nCDcLYUzv"
      },
      "execution_count": 29,
      "outputs": []
    },
    {
      "cell_type": "code",
      "source": [
        "jax.grad(inverse(demand))(8.)"
      ],
      "metadata": {
        "colab": {
          "base_uri": "https://localhost:8080/"
        },
        "id": "RRMzf5uIYark",
        "outputId": "90897a2e-344d-407f-a802-3c3940620dbc"
      },
      "execution_count": 30,
      "outputs": [
        {
          "output_type": "execute_result",
          "data": {
            "text/plain": [
              "DeviceArray(-2.58743863, dtype=float64)"
            ]
          },
          "metadata": {},
          "execution_count": 30
        }
      ]
    },
    {
      "cell_type": "code",
      "source": [],
      "metadata": {
        "id": "fGgap9oeYd9Q"
      },
      "execution_count": null,
      "outputs": []
    }
  ]
}