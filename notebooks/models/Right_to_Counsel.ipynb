{
  "nbformat": 4,
  "nbformat_minor": 0,
  "metadata": {
    "colab": {
      "provenance": [],
      "authorship_tag": "ABX9TyP/tBv7QC+ghp8GHWaj7pnH",
      "include_colab_link": true
    },
    "kernelspec": {
      "name": "python3",
      "display_name": "Python 3"
    },
    "language_info": {
      "name": "python"
    }
  },
  "cells": [
    {
      "cell_type": "markdown",
      "metadata": {
        "id": "view-in-github",
        "colab_type": "text"
      },
      "source": [
        "<a href=\"https://colab.research.google.com/github/pharringtonp19/mecon/blob/main/notebooks/models/Right_to_Counsel.ipynb\" target=\"_parent\"><img src=\"https://colab.research.google.com/assets/colab-badge.svg\" alt=\"Open In Colab\"/></a>"
      ]
    },
    {
      "cell_type": "code",
      "execution_count": 1,
      "metadata": {
        "id": "WtmQWhwtxTO-"
      },
      "outputs": [],
      "source": [
        "%%capture \n",
        "!pip install --upgrade oryx "
      ]
    },
    {
      "cell_type": "code",
      "source": [
        "from functools import partial \n",
        "import oryx \n",
        "import jax\n",
        "import jax.numpy as jnp \n",
        "from tensorflow_probability.substrates import jax as tfp\n",
        "tfd = tfp.distributions\n",
        "from oryx.core.ppl import random_variable"
      ],
      "metadata": {
        "id": "f81ChYnvxofE"
      },
      "execution_count": 32,
      "outputs": []
    },
    {
      "cell_type": "code",
      "source": [
        "import matplotlib.pyplot as plt\n",
        "import seaborn as sns\n",
        "sns.set(style='white')"
      ],
      "metadata": {
        "id": "A_9rX58AzBEU"
      },
      "execution_count": 33,
      "outputs": []
    },
    {
      "cell_type": "code",
      "source": [
        "def prob_fn(id_type):\n",
        "  return jax.nn.sigmoid(id_type-.5)\n",
        "\n",
        "id_types = jnp.linspace(0., 1., 100)\n",
        "ps = jax.vmap(prob_fn)(id_types)\n",
        "\n",
        "plt.title('Probability of Missed Rent', loc='left', size=14)\n",
        "plt.plot(id_types, ps)\n",
        "plt.xlabel('Renter Type', size=14)\n",
        "plt.show()"
      ],
      "metadata": {
        "colab": {
          "base_uri": "https://localhost:8080/",
          "height": 303
        },
        "id": "ANVrkbvT00T1",
        "outputId": "18ad75cd-5358-4bcf-cdcb-55bc88d1fdfb"
      },
      "execution_count": 34,
      "outputs": [
        {
          "output_type": "display_data",
          "data": {
            "text/plain": [
              "<Figure size 432x288 with 1 Axes>"
            ],
            "image/png": "[encoded data removed]"
          },
          "metadata": {}
        }
      ]
    },
    {
      "cell_type": "code",
      "source": [
        "def experiment(f, key, id_type):\n",
        "  probs = f(id_type)\n",
        "  return random_variable(tfd.Bernoulli(probs=probs))(key)"
      ],
      "metadata": {
        "id": "URaIhIQUx_86"
      },
      "execution_count": 41,
      "outputs": []
    },
    {
      "cell_type": "code",
      "source": [
        "n = 1000 \n",
        "init_key = jax.random.PRNGKey(0)\n",
        "subkey1, subkey2 = jax.random.split(init_key)\n",
        "\n",
        "ids = jax.random.uniform(subkey1, shape=(n,))\n",
        "keys = jax.random.split(subkey2, n)\n",
        "samples = jax.vmap(partial(experiment, prob_fn))(keys, ids)\n",
        "plt.hist(samples, density=True)\n",
        "plt.show()"
      ],
      "metadata": {
        "colab": {
          "base_uri": "https://localhost:8080/",
          "height": 268
        },
        "id": "KtQ0GSkbyyhC",
        "outputId": "818ba1f9-ce8c-48b9-e71b-8790a0035fd2"
      },
      "execution_count": 48,
      "outputs": [
        {
          "output_type": "display_data",
          "data": {
            "text/plain": [
              "<Figure size 432x288 with 1 Axes>"
            ],
            "image/png": "[encoded data removed]"
          },
          "metadata": {}
        }
      ]
    }
  ]
}