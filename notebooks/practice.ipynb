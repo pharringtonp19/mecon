{
 "cells": [
  {
   "cell_type": "code",
   "execution_count": 14,
   "metadata": {},
   "outputs": [],
   "source": [
    "import jax \n",
    "import jax.numpy as jnp \n",
    "import jaxopt \n",
    "import matplotlib.pyplot as plt\n"
   ]
  },
  {
   "cell_type": "code",
   "execution_count": 40,
   "metadata": {},
   "outputs": [],
   "source": [
    "def inverse_fn(f: callable, x: float, init_param=5.0): \n",
    "    loss_fn = lambda z: (f(z)-x)**2\n",
    "    solver = jaxopt.GradientDescent(fun=loss_fn)\n",
    "    return solver.run(init_param).params\n",
    "\n",
    "def demand(p : float) -> float:\n",
    "    return 10.0 - 2.*jnp.sqrt(p) "
   ]
  },
  {
   "cell_type": "code",
   "execution_count": 41,
   "metadata": {},
   "outputs": [
    {
     "data": {
      "image/png": "[encoded data removed]",
      "text/plain": [
       "<Figure size 432x288 with 1 Axes>"
      ]
     },
     "metadata": {
      "needs_background": "light"
     },
     "output_type": "display_data"
    }
   ],
   "source": [
    "ps = jnp.linspace(0, 10, 1000)\n",
    "qs = jax.vmap(demand)(ps)\n",
    "plt.plot(qs, ps)\n",
    "plt.show()"
   ]
  },
  {
   "cell_type": "code",
   "execution_count": 42,
   "metadata": {},
   "outputs": [
    {
     "data": {
      "text/plain": [
       "DeviceArray(2.0000014, dtype=float32, weak_type=True)"
      ]
     },
     "execution_count": 42,
     "metadata": {},
     "output_type": "execute_result"
    }
   ],
   "source": [
    "inverse_fn(demand, demand(2.))"
   ]
  },
  {
   "cell_type": "code",
   "execution_count": 44,
   "metadata": {},
   "outputs": [
    {
     "name": "stdout",
     "output_type": "stream",
     "text": [
      "-0.26500577\n",
      "-0.2649507\n"
     ]
    }
   ],
   "source": [
    "def elasticity(Price: bool, f: callable, x: float):\n",
    "    if Price:\n",
    "        q, p = f(x), x\n",
    "    else:\n",
    "        q, p = x, inverse_fn(f, x)        \n",
    "    return (p/q) * jax.grad(f)(p)\n",
    "\n",
    "price = 3.0 \n",
    "quantity = demand(3.0)\n",
    "print(elasticity(True, demand, price))\n",
    "print(elasticity(False, demand, quantity))\n",
    "\n",
    "\n",
    "\n"
   ]
  },
  {
   "cell_type": "code",
   "execution_count": 35,
   "metadata": {},
   "outputs": [
    {
     "data": {
      "text/plain": [
       "float"
      ]
     },
     "execution_count": 35,
     "metadata": {},
     "output_type": "execute_result"
    }
   ],
   "source": [
    "type(price)"
   ]
  },
  {
   "cell_type": "code",
   "execution_count": null,
   "metadata": {},
   "outputs": [],
   "source": []
  }
 ],
 "metadata": {
  "kernelspec": {
   "display_name": "mecon",
   "language": "python",
   "name": "mecon"
  },
  "language_info": {
   "codemirror_mode": {
    "name": "ipython",
    "version": 3
   },
   "file_extension": ".py",
   "mimetype": "text/x-python",
   "name": "python",
   "nbconvert_exporter": "python",
   "pygments_lexer": "ipython3",
   "version": "3.10.0"
  },
  "orig_nbformat": 4
 },
 "nbformat": 4,
 "nbformat_minor": 2
}
