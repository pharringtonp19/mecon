{
  "nbformat": 4,
  "nbformat_minor": 0,
  "metadata": {
    "colab": {
      "provenance": [],
      "collapsed_sections": [],
      "authorship_tag": "ABX9TyMX/FDy33955EQC7v+FeIUr",
      "include_colab_link": true
    },
    "kernelspec": {
      "name": "python3",
      "display_name": "Python 3"
    },
    "language_info": {
      "name": "python"
    }
  },
  "cells": [
    {
      "cell_type": "markdown",
      "metadata": {
        "id": "view-in-github",
        "colab_type": "text"
      },
      "source": [
        "<a href=\"https://colab.research.google.com/github/pharringtonp19/mecon/blob/main/notebooks/Problem_Set_4_Preparation.ipynb\" target=\"_parent\"><img src=\"https://colab.research.google.com/assets/colab-badge.svg\" alt=\"Open In Colab\"/></a>"
      ]
    },
    {
      "cell_type": "code",
      "execution_count": 1,
      "metadata": {
        "id": "J2hlIdqA3SF3"
      },
      "outputs": [],
      "source": [
        "import jax \n",
        "import jax.numpy as jnp \n",
        "import matplotlib.pyplot as plt "
      ]
    },
    {
      "cell_type": "markdown",
      "source": [
        "> I want to encourage you to think of working with a colab notebook as working with a state of the art calculator "
      ],
      "metadata": {
        "id": "Qcaza6qD9hj4"
      }
    },
    {
      "cell_type": "markdown",
      "source": [
        "### **Sample from a Distribution**\n",
        "\n",
        "To sample from a **discrete** distribution we need to specify the following pieces of information\n",
        "1. `key`: random seed \n",
        "2. `a`: Array of Values \n",
        "3. `shape`: Number of samples \n",
        "4. `p`: Array of Probabilities of sampling each value\n",
        "\n",
        "We pass these values as arguments to the sampling function `jax.random.choice`"
      ],
      "metadata": {
        "id": "Jyfta3Y33X6G"
      }
    },
    {
      "cell_type": "code",
      "source": [
        "samples = jax.random.choice(key=jax.random.PRNGKey(0), a=jnp.array([100., 50.]), shape=(1000,), p = jnp.array([0.25, 0.75]))"
      ],
      "metadata": {
        "id": "4Xoa8LzG3Wv1"
      },
      "execution_count": 6,
      "outputs": []
    },
    {
      "cell_type": "markdown",
      "source": [
        "### **Plot Samples**\n",
        "\n",
        "To plot samples from a distribution, we can pass the samples to the function `plt.hist`. After doing so, we can then call `plt.show()` to produce the plot. To get some feel for how this works, consider changing `a` or `p` in the line above"
      ],
      "metadata": {
        "id": "iLTeaEhu4maE"
      }
    },
    {
      "cell_type": "code",
      "source": [
        "plt.hist(samples)\n",
        "plt.show()"
      ],
      "metadata": {
        "colab": {
          "base_uri": "https://localhost:8080/",
          "height": 268
        },
        "id": "HUQ5Yzp333oL",
        "outputId": "24fd5c2d-de43-4d20-b532-dd3f6ce8e768"
      },
      "execution_count": 7,
      "outputs": [
        {
          "output_type": "display_data",
          "data": {
            "text/plain": [
              "<Figure size 432x288 with 1 Axes>"
            ],
            "image/png": "[encoded data removed]"
          },
          "metadata": {
            "needs_background": "light"
          }
        }
      ]
    },
    {
      "cell_type": "markdown",
      "source": [
        "### **Vectorizing a Function**\n",
        "\n",
        "We will often find is useful to apply a function that takes a scalar and returns a scalar, and enable it to take a vector as an input and return a vector as an output. We can do so explicity, by applying `jax.vmap` to the function. That is, if `f` is a maps from $\\mathcal{R} \\to \\mathcal{R}$, we can extend it to a function that maps from $\\mathcal{R}^n \\to \\mathcal{R}^n$ as follows: `jax.vmap(f)`. \n",
        "\n",
        "Below, we take a utility function defined on $\\mathcal{R}$ and extend it so that it can take our the array of samples as an input!"
      ],
      "metadata": {
        "id": "kggsplA15Q8w"
      }
    },
    {
      "cell_type": "code",
      "source": [
        "def utility_fn(x):\n",
        "  return jnp.sqrt(x)\n",
        "\n",
        "utility_of_samples = jax.vmap(utility_fn)(samples)\n",
        "\n",
        "plt.hist(utility_of_samples)\n",
        "plt.show()"
      ],
      "metadata": {
        "colab": {
          "base_uri": "https://localhost:8080/",
          "height": 268
        },
        "id": "XE3_FdBh476Y",
        "outputId": "f721ccab-440a-48c3-eb8d-9953f4b52629"
      },
      "execution_count": 11,
      "outputs": [
        {
          "output_type": "display_data",
          "data": {
            "text/plain": [
              "<Figure size 432x288 with 1 Axes>"
            ],
            "image/png": "[encoded data removed]"
          },
          "metadata": {
            "needs_background": "light"
          }
        }
      ]
    },
    {
      "cell_type": "markdown",
      "source": [
        "### **Creating Arrays => The Graph of a Function**\n",
        "\n",
        "As you have probably sensed, it's very helpful to be able to create arrays. For instance, if we want to plot the graph of the demand function, we'll want to (1) create an array of different prices, (2) `vmap` the demand function and then apply the result to this array of prices, and then (3) plot the array of prices and the corresponding quantity demanded. To create an array that continues values between two endpoints, we can use the function `jnp.linspace`. We pass three arguments to this function (starting value, ending value, number of points).\n",
        "\n",
        "To plot the graph of the function we use the function `plt.plot` and pass in as separate inputs the two arrays."
      ],
      "metadata": {
        "id": "wzHR_1Qo7lag"
      }
    },
    {
      "cell_type": "code",
      "source": [
        "ps = jnp.linspace(0, 12, 100)\n",
        "\n",
        "def demand(p):\n",
        "  return 12 - 3*p**0.5 \n",
        "\n",
        "qs = jax.vmap(demand)(ps)\n",
        "\n",
        "plt.plot(qs, ps)\n",
        "plt.show()"
      ],
      "metadata": {
        "colab": {
          "base_uri": "https://localhost:8080/",
          "height": 265
        },
        "id": "0mUYn0pc87eD",
        "outputId": "b7eff553-0b74-4fef-c67f-f322433b86b9"
      },
      "execution_count": 20,
      "outputs": [
        {
          "output_type": "display_data",
          "data": {
            "text/plain": [
              "<Figure size 432x288 with 1 Axes>"
            ],
            "image/png": "[encoded data removed]"
          },
          "metadata": {
            "needs_background": "light"
          }
        }
      ]
    },
    {
      "cell_type": "markdown",
      "source": [
        "### **Computing Gradients**\n",
        "\n",
        "One nice part about writing math on the computer is that we can easily compute gradients. To do so, we simply call `jax.grad` on the function of interest and then apply the result to the input. "
      ],
      "metadata": {
        "id": "9fyQu4Uf-H9C"
      }
    },
    {
      "cell_type": "code",
      "source": [
        "jax.grad(demand)(2.)"
      ],
      "metadata": {
        "colab": {
          "base_uri": "https://localhost:8080/"
        },
        "id": "6ssJsOLM-ef4",
        "outputId": "fcdb7f7c-5c46-4de6-bcc2-7829d029cbbf"
      },
      "execution_count": 21,
      "outputs": [
        {
          "output_type": "execute_result",
          "data": {
            "text/plain": [
              "DeviceArray(-1.0606601, dtype=float32, weak_type=True)"
            ]
          },
          "metadata": {},
          "execution_count": 21
        }
      ]
    },
    {
      "cell_type": "markdown",
      "source": [
        "Now, what's really nice is that `jax.grad(demand)` is just a function, we so we can vectorize it and then plot its graph too!"
      ],
      "metadata": {
        "id": "sr_aEaBM-hrj"
      }
    },
    {
      "cell_type": "code",
      "source": [
        "deriv = jax.vmap(jax.grad(demand))(ps)\n",
        "plt.plot(ps, deriv)\n",
        "plt.show()"
      ],
      "metadata": {
        "colab": {
          "base_uri": "https://localhost:8080/",
          "height": 265
        },
        "id": "kvexSiKK-5Ts",
        "outputId": "84d458eb-6c22-45d2-df3c-0d71e3f0bc9e"
      },
      "execution_count": 23,
      "outputs": [
        {
          "output_type": "display_data",
          "data": {
            "text/plain": [
              "<Figure size 432x288 with 1 Axes>"
            ],
            "image/png": "[encoded data removed]"
          },
          "metadata": {
            "needs_background": "light"
          }
        }
      ]
    },
    {
      "cell_type": "markdown",
      "source": [
        "### **Anonymous Functions**\n",
        "\n",
        "The first topic we covered when write math on the computer was how to define a function. We emphasized that to define a function, we needed to use the keyword `def`. It turns out though that there exists an alternative way to define function. We can do so with an keyword `lambda` as follows. (Note, if you are following along, you should be able to read everything in the following block!)"
      ],
      "metadata": {
        "id": "PFbdtBym6lnX"
      }
    },
    {
      "cell_type": "code",
      "source": [
        "def f0(x):\n",
        "  return jnp.sqrt(x)\n",
        "\n",
        "f1 = lambda x : jnp.sqrt(x)\n",
        "\n",
        "xs = jnp.linspace(0, 3, 100)\n",
        "ys1 = jax.vmap(f0)(xs)\n",
        "ys2 = jax.vmap(f1)(xs)\n",
        "\n",
        "plt.plot(xs, ys1)\n",
        "plt.plot(xs, ys2)\n",
        "plt.show()"
      ],
      "metadata": {
        "colab": {
          "base_uri": "https://localhost:8080/",
          "height": 265
        },
        "id": "bfPHJUf86Y9J",
        "outputId": "d5d823fb-f944-4f15-e964-bff714dd09ec"
      },
      "execution_count": 13,
      "outputs": [
        {
          "output_type": "display_data",
          "data": {
            "text/plain": [
              "<Figure size 432x288 with 1 Axes>"
            ],
            "image/png": "[encoded data removed]"
          },
          "metadata": {
            "needs_background": "light"
          }
        }
      ]
    },
    {
      "cell_type": "markdown",
      "source": [
        "### **Summing Across Columns**"
      ],
      "metadata": {
        "id": "peiREpoe7p54"
      }
    },
    {
      "cell_type": "code",
      "source": [
        "xs = jnp.arange(9).reshape(-1,3)\n",
        "xs"
      ],
      "metadata": {
        "colab": {
          "base_uri": "https://localhost:8080/"
        },
        "id": "t-YWbmLj7sLm",
        "outputId": "86ddb988-9b00-4802-d575-3d8af7ac0491"
      },
      "execution_count": 14,
      "outputs": [
        {
          "output_type": "execute_result",
          "data": {
            "text/plain": [
              "DeviceArray([[0, 1, 2],\n",
              "             [3, 4, 5],\n",
              "             [6, 7, 8]], dtype=int32)"
            ]
          },
          "metadata": {},
          "execution_count": 14
        }
      ]
    },
    {
      "cell_type": "code",
      "source": [
        "jnp.sum(xs, axis=0)"
      ],
      "metadata": {
        "colab": {
          "base_uri": "https://localhost:8080/"
        },
        "id": "EKoMjD2K8PFR",
        "outputId": "963b155e-bbd1-43b0-c23d-3ecc9524e9b0"
      },
      "execution_count": 15,
      "outputs": [
        {
          "output_type": "execute_result",
          "data": {
            "text/plain": [
              "DeviceArray([ 9, 12, 15], dtype=int32)"
            ]
          },
          "metadata": {},
          "execution_count": 15
        }
      ]
    },
    {
      "cell_type": "code",
      "source": [
        "jnp.sum(xs, axis=1)"
      ],
      "metadata": {
        "colab": {
          "base_uri": "https://localhost:8080/"
        },
        "id": "e4OcKTsF8TPw",
        "outputId": "11f9c17e-7cb9-4348-c10f-eb8538a3ac7d"
      },
      "execution_count": 16,
      "outputs": [
        {
          "output_type": "execute_result",
          "data": {
            "text/plain": [
              "DeviceArray([ 3, 12, 21], dtype=int32)"
            ]
          },
          "metadata": {},
          "execution_count": 16
        }
      ]
    }
  ]
}