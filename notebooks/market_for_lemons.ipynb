{
  "nbformat": 4,
  "nbformat_minor": 0,
  "metadata": {
    "colab": {
      "name": "market_for_lemons.ipynb",
      "provenance": [],
      "authorship_tag": "ABX9TyOpZgZXiNemEVhYzh51LnS3",
      "include_colab_link": true
    },
    "kernelspec": {
      "name": "python3",
      "display_name": "Python 3"
    },
    "language_info": {
      "name": "python"
    }
  },
  "cells": [
    {
      "cell_type": "markdown",
      "metadata": {
        "id": "view-in-github",
        "colab_type": "text"
      },
      "source": [
        "<a href=\"https://colab.research.google.com/github/pharringtonp19/mecon/blob/main/notebooks/market_for_lemons.ipynb\" target=\"_parent\"><img src=\"https://colab.research.google.com/assets/colab-badge.svg\" alt=\"Open In Colab\"/></a>"
      ]
    },
    {
      "cell_type": "code",
      "execution_count": 5,
      "metadata": {
        "id": "EzdYC9lRJidp"
      },
      "outputs": [],
      "source": [
        "import jax\n",
        "import jax.numpy as jnp \n",
        "from functools import partial \n",
        "from dataclasses import dataclass "
      ]
    },
    {
      "cell_type": "code",
      "source": [
        "import matplotlib as mpl\n",
        "from matplotlib import pyplot as plt\n",
        "from matplotlib import rcParams\n",
        "rcParams['image.interpolation'] = 'nearest'\n",
        "rcParams['image.cmap'] = 'viridis'\n",
        "rcParams['axes.grid'] = False\n",
        "%matplotlib inline\n",
        "%config InlineBackend.figure_format = 'svg'"
      ],
      "metadata": {
        "id": "Lu7EoO2dJv2c"
      },
      "execution_count": 6,
      "outputs": []
    },
    {
      "cell_type": "code",
      "source": [
        "def create_prob_measure(p):\n",
        "\n",
        "  def sample_from_prob_measure(key, p):\n",
        "    return jax.random.bernoulli(key).astype('int32')\n",
        "  \n",
        "  return partial(sample_from_prob_measure, p=p)\n",
        "\n",
        "def buyer_value(w: int, value_plum, value_lemon):\n",
        "  return jnp.where(w==1, value_plum, value_lemon)\n"
      ],
      "metadata": {
        "id": "VHcD8EAKQKxe"
      },
      "execution_count": 20,
      "outputs": []
    },
    {
      "cell_type": "code",
      "source": [
        "@dataclass \n",
        "class Market_for_lemons: \n",
        "  alpha : float = 0.5 \n",
        "  buyer_value: jnp.array = jnp.array([100., 50.])\n",
        "  seller_value: float = 80.0 "
      ],
      "metadata": {
        "id": "zAnWyrPeJwjT"
      },
      "execution_count": 39,
      "outputs": []
    }
  ]
}