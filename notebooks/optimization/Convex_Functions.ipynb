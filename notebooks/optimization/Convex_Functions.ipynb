{
  "nbformat": 4,
  "nbformat_minor": 0,
  "metadata": {
    "colab": {
      "provenance": [],
      "authorship_tag": "ABX9TyNKQ+JeHmOBnArDUV5nIL1H",
      "include_colab_link": true
    },
    "kernelspec": {
      "name": "python3",
      "display_name": "Python 3"
    },
    "language_info": {
      "name": "python"
    }
  },
  "cells": [
    {
      "cell_type": "markdown",
      "metadata": {
        "id": "view-in-github",
        "colab_type": "text"
      },
      "source": [
        "<a href=\"https://colab.research.google.com/github/pharringtonp19/mecon/blob/main/notebooks/optimization/Convex_Functions.ipynb\" target=\"_parent\"><img src=\"https://colab.research.google.com/assets/colab-badge.svg\" alt=\"Open In Colab\"/></a>"
      ]
    },
    {
      "cell_type": "code",
      "execution_count": 1,
      "metadata": {
        "id": "_k-NDb39E_R1"
      },
      "outputs": [],
      "source": [
        "#@title **Imports** { display-mode: \"form\" }\n",
        "import warnings\n",
        "warnings.filterwarnings(\"ignore\")\n",
        "\n",
        "import jax\n",
        "import jax.numpy as jnp\n",
        "from jax import random, grad, vmap \n",
        "import matplotlib.pyplot as plt \n",
        "import seaborn as sns\n",
        "import altair as alt\n",
        "import pandas as pd\n",
        "from functools import partial\n",
        "from math import factorial \n",
        "\n",
        "import matplotlib as mpl\n",
        "from matplotlib import pyplot as plt\n",
        "from mpl_toolkits import mplot3d\n",
        "from matplotlib import rcParams\n",
        "rcParams['image.interpolation'] = 'nearest'\n",
        "rcParams['image.cmap'] = 'viridis'\n",
        "rcParams['axes.grid'] = False\n",
        "%matplotlib inline\n",
        "%config InlineBackend.figure_format = 'svg'\n",
        "\n",
        "sns.set_style('whitegrid')"
      ]
    },
    {
      "cell_type": "markdown",
      "source": [
        "### **Convex Function**"
      ],
      "metadata": {
        "id": "XtRAHKQsH29f"
      }
    },
    {
      "cell_type": "code",
      "source": [
        "#@title { display-mode: \"form\" }\n",
        "def f(x):\n",
        "  return x**2\n",
        "\n",
        "def f_approx(f, x0, x):\n",
        "  return f(x0) + jax.grad(f)(x0)*(x-x0)\n",
        "\n",
        "x0 = 2.0 \n",
        "f_approx(f, x0, 2.)\n",
        "xs = jnp.linspace(-5., 5.,  100)\n",
        "ys1 = jax.vmap(f)(xs) \n",
        "ys2 = jax.vmap(partial(f_approx, f, x0))(xs)\n",
        "fig = plt.figure(dpi=300, tight_layout=True)\n",
        "plt.plot(xs, ys1)\n",
        "plt.plot(xs, ys2)\n",
        "fig.savefig('convex_fn.png', format='png')\n",
        "plt.show()"
      ],
      "metadata": {
        "id": "mrbR2ghlFPL7",
        "outputId": "9030f4f2-f469-4f09-ba6a-5865b068d94d",
        "colab": {
          "base_uri": "https://localhost:8080/",
          "height": 395
        }
      },
      "execution_count": 10,
      "outputs": [
        {
          "output_type": "display_data",
          "data": {
            "text/plain": [
              "<Figure size 1800x1200 with 1 Axes>"
            ],
            "image/svg+xml": "<?xml version=\"1.0\" encoding=\"utf-8\" standalone=\"no\"?>\n<!DOCTYPE svg PUBLIC \"-//W3C//DTD SVG 1.1//EN\"\n  \"http://www.w3.org/Graphics/SVG/1.1/DTD/svg11.dtd\">\n<!-- Created with matplotlib (https://matplotlib.org/) -->\n<svg height=\"280.8pt\" version=\"1.1\" viewBox=\"0 0 424.8 280.8\" width=\"424.8pt\" xmlns=\"http://www.w3.org/2000/svg\" xmlns:xlink=\"http://www.w3.org/1999/xlink\">\n <defs>\n  <style type=\"text/css\">\n*{stroke-linecap:butt;stroke-linejoin:round;}\n  </style>\n </defs>\n <g id=\"figure_1\">\n  <g id=\"patch_1\">\n   <path d=\"M 0 280.8 \nL 424.8 280.8 \nL 424.8 0 \nL 0 0 \nz\n\" style=\"fill:#ffffff;\"/>\n  </g>\n  <g id=\"axes_1\">\n   <g id=\"patch_2\">\n    <path d=\"M 35.304688 256.921875 \nL 417.6 256.921875 \nL 417.6 7.2 \nL 35.304688 7.2 \nz\n\" style=\"fill:#ffffff;\"/>\n   </g>\n   <g id=\"matplotlib.axis_1\">\n    <g id=\"xtick_1\">\n     <g id=\"line2d_1\">\n      <path clip-path=\"url(#pf9cff27a06)\" d=\"M 87.435866 256.921875 \nL 87.435866 7.2 \n\" style=\"fill:none;stroke:#cccccc;stroke-linecap:round;stroke-width:0.8;\"/>\n     </g>\n     <g id=\"text_1\">\n      <!-- −4 -->\n      <defs>\n       <path d=\"M 10.59375 35.5 \nL 73.1875 35.5 \nL 73.1875 27.203125 \nL 10.59375 27.203125 \nz\n\" id=\"DejaVuSans-8722\"/>\n       <path d=\"M 37.796875 64.3125 \nL 12.890625 25.390625 \nL 37.796875 25.390625 \nz\nM 35.203125 72.90625 \nL 47.609375 72.90625 \nL 47.609375 25.390625 \nL 58.015625 25.390625 \nL 58.015625 17.1875 \nL 47.609375 17.1875 \nL 47.609375 0 \nL 37.796875 0 \nL 37.796875 17.1875 \nL 4.890625 17.1875 \nL 4.890625 26.703125 \nz\n\" id=\"DejaVuSans-52\"/>\n      </defs>\n      <g style=\"fill:#262626;\" transform=\"translate(80.064773 271.520312)scale(0.1 -0.1)\">\n       <use xlink:href=\"#DejaVuSans-8722\"/>\n       <use x=\"83.789062\" xlink:href=\"#DejaVuSans-52\"/>\n      </g>\n     </g>\n    </g>\n    <g id=\"xtick_2\">\n     <g id=\"line2d_2\">\n      <path clip-path=\"url(#pf9cff27a06)\" d=\"M 156.944105 256.921875 \nL 156.944105 7.2 \n\" style=\"fill:none;stroke:#cccccc;stroke-linecap:round;stroke-width:0.8;\"/>\n     </g>\n     <g id=\"text_2\">\n      <!-- −2 -->\n      <defs>\n       <path d=\"M 19.1875 8.296875 \nL 53.609375 8.296875 \nL 53.609375 0 \nL 7.328125 0 \nL 7.328125 8.296875 \nQ 12.9375 14.109375 22.625 23.890625 \nQ 32.328125 33.6875 34.8125 36.53125 \nQ 39.546875 41.84375 41.421875 45.53125 \nQ 43.3125 49.21875 43.3125 52.78125 \nQ 43.3125 58.59375 39.234375 62.25 \nQ 35.15625 65.921875 28.609375 65.921875 \nQ 23.96875 65.921875 18.8125 64.3125 \nQ 13.671875 62.703125 7.8125 59.421875 \nL 7.8125 69.390625 \nQ 13.765625 71.78125 18.9375 73 \nQ 24.125 74.21875 28.421875 74.21875 \nQ 39.75 74.21875 46.484375 68.546875 \nQ 53.21875 62.890625 53.21875 53.421875 \nQ 53.21875 48.921875 51.53125 44.890625 \nQ 49.859375 40.875 45.40625 35.40625 \nQ 44.1875 33.984375 37.640625 27.21875 \nQ 31.109375 20.453125 19.1875 8.296875 \nz\n\" id=\"DejaVuSans-50\"/>\n      </defs>\n      <g style=\"fill:#262626;\" transform=\"translate(149.573011 271.520312)scale(0.1 -0.1)\">\n       <use xlink:href=\"#DejaVuSans-8722\"/>\n       <use x=\"83.789062\" xlink:href=\"#DejaVuSans-50\"/>\n      </g>\n     </g>\n    </g>\n    <g id=\"xtick_3\">\n     <g id=\"line2d_3\">\n      <path clip-path=\"url(#pf9cff27a06)\" d=\"M 226.452344 256.921875 \nL 226.452344 7.2 \n\" style=\"fill:none;stroke:#cccccc;stroke-linecap:round;stroke-width:0.8;\"/>\n     </g>\n     <g id=\"text_3\">\n      <!-- 0 -->\n      <defs>\n       <path d=\"M 31.78125 66.40625 \nQ 24.171875 66.40625 20.328125 58.90625 \nQ 16.5 51.421875 16.5 36.375 \nQ 16.5 21.390625 20.328125 13.890625 \nQ 24.171875 6.390625 31.78125 6.390625 \nQ 39.453125 6.390625 43.28125 13.890625 \nQ 47.125 21.390625 47.125 36.375 \nQ 47.125 51.421875 43.28125 58.90625 \nQ 39.453125 66.40625 31.78125 66.40625 \nz\nM 31.78125 74.21875 \nQ 44.046875 74.21875 50.515625 64.515625 \nQ 56.984375 54.828125 56.984375 36.375 \nQ 56.984375 17.96875 50.515625 8.265625 \nQ 44.046875 -1.421875 31.78125 -1.421875 \nQ 19.53125 -1.421875 13.0625 8.265625 \nQ 6.59375 17.96875 6.59375 36.375 \nQ 6.59375 54.828125 13.0625 64.515625 \nQ 19.53125 74.21875 31.78125 74.21875 \nz\n\" id=\"DejaVuSans-48\"/>\n      </defs>\n      <g style=\"fill:#262626;\" transform=\"translate(223.271094 271.520312)scale(0.1 -0.1)\">\n       <use xlink:href=\"#DejaVuSans-48\"/>\n      </g>\n     </g>\n    </g>\n    <g id=\"xtick_4\">\n     <g id=\"line2d_4\">\n      <path clip-path=\"url(#pf9cff27a06)\" d=\"M 295.960582 256.921875 \nL 295.960582 7.2 \n\" style=\"fill:none;stroke:#cccccc;stroke-linecap:round;stroke-width:0.8;\"/>\n     </g>\n     <g id=\"text_4\">\n      <!-- 2 -->\n      <g style=\"fill:#262626;\" transform=\"translate(292.779332 271.520312)scale(0.1 -0.1)\">\n       <use xlink:href=\"#DejaVuSans-50\"/>\n      </g>\n     </g>\n    </g>\n    <g id=\"xtick_5\">\n     <g id=\"line2d_5\">\n      <path clip-path=\"url(#pf9cff27a06)\" d=\"M 365.468821 256.921875 \nL 365.468821 7.2 \n\" style=\"fill:none;stroke:#cccccc;stroke-linecap:round;stroke-width:0.8;\"/>\n     </g>\n     <g id=\"text_5\">\n      <!-- 4 -->\n      <g style=\"fill:#262626;\" transform=\"translate(362.287571 271.520312)scale(0.1 -0.1)\">\n       <use xlink:href=\"#DejaVuSans-52\"/>\n      </g>\n     </g>\n    </g>\n   </g>\n   <g id=\"matplotlib.axis_2\">\n    <g id=\"ytick_1\">\n     <g id=\"line2d_6\">\n      <path clip-path=\"url(#pf9cff27a06)\" d=\"M 35.304688 227.038645 \nL 417.6 227.038645 \n\" style=\"fill:none;stroke:#cccccc;stroke-linecap:round;stroke-width:0.8;\"/>\n     </g>\n     <g id=\"text_6\">\n      <!-- −20 -->\n      <g style=\"fill:#262626;\" transform=\"translate(7.2 230.837864)scale(0.1 -0.1)\">\n       <use xlink:href=\"#DejaVuSans-8722\"/>\n       <use x=\"83.789062\" xlink:href=\"#DejaVuSans-50\"/>\n       <use x=\"147.412109\" xlink:href=\"#DejaVuSans-48\"/>\n      </g>\n     </g>\n    </g>\n    <g id=\"ytick_2\">\n     <g id=\"line2d_7\">\n      <path clip-path=\"url(#pf9cff27a06)\" d=\"M 35.304688 180.708056 \nL 417.6 180.708056 \n\" style=\"fill:none;stroke:#cccccc;stroke-linecap:round;stroke-width:0.8;\"/>\n     </g>\n     <g id=\"text_7\">\n      <!-- −10 -->\n      <defs>\n       <path d=\"M 12.40625 8.296875 \nL 28.515625 8.296875 \nL 28.515625 63.921875 \nL 10.984375 60.40625 \nL 10.984375 69.390625 \nL 28.421875 72.90625 \nL 38.28125 72.90625 \nL 38.28125 8.296875 \nL 54.390625 8.296875 \nL 54.390625 0 \nL 12.40625 0 \nz\n\" id=\"DejaVuSans-49\"/>\n      </defs>\n      <g style=\"fill:#262626;\" transform=\"translate(7.2 184.507275)scale(0.1 -0.1)\">\n       <use xlink:href=\"#DejaVuSans-8722\"/>\n       <use x=\"83.789062\" xlink:href=\"#DejaVuSans-49\"/>\n       <use x=\"147.412109\" xlink:href=\"#DejaVuSans-48\"/>\n      </g>\n     </g>\n    </g>\n    <g id=\"ytick_3\">\n     <g id=\"line2d_8\">\n      <path clip-path=\"url(#pf9cff27a06)\" d=\"M 35.304688 134.377467 \nL 417.6 134.377467 \n\" style=\"fill:none;stroke:#cccccc;stroke-linecap:round;stroke-width:0.8;\"/>\n     </g>\n     <g id=\"text_8\">\n      <!-- 0 -->\n      <g style=\"fill:#262626;\" transform=\"translate(21.942187 138.176686)scale(0.1 -0.1)\">\n       <use xlink:href=\"#DejaVuSans-48\"/>\n      </g>\n     </g>\n    </g>\n    <g id=\"ytick_4\">\n     <g id=\"line2d_9\">\n      <path clip-path=\"url(#pf9cff27a06)\" d=\"M 35.304688 88.046878 \nL 417.6 88.046878 \n\" style=\"fill:none;stroke:#cccccc;stroke-linecap:round;stroke-width:0.8;\"/>\n     </g>\n     <g id=\"text_9\">\n      <!-- 10 -->\n      <g style=\"fill:#262626;\" transform=\"translate(15.579687 91.846097)scale(0.1 -0.1)\">\n       <use xlink:href=\"#DejaVuSans-49\"/>\n       <use x=\"63.623047\" xlink:href=\"#DejaVuSans-48\"/>\n      </g>\n     </g>\n    </g>\n    <g id=\"ytick_5\">\n     <g id=\"line2d_10\">\n      <path clip-path=\"url(#pf9cff27a06)\" d=\"M 35.304688 41.716289 \nL 417.6 41.716289 \n\" style=\"fill:none;stroke:#cccccc;stroke-linecap:round;stroke-width:0.8;\"/>\n     </g>\n     <g id=\"text_10\">\n      <!-- 20 -->\n      <g style=\"fill:#262626;\" transform=\"translate(15.579687 45.515508)scale(0.1 -0.1)\">\n       <use xlink:href=\"#DejaVuSans-50\"/>\n       <use x=\"63.623047\" xlink:href=\"#DejaVuSans-48\"/>\n      </g>\n     </g>\n    </g>\n   </g>\n   <g id=\"line2d_11\">\n    <path clip-path=\"url(#pf9cff27a06)\" d=\"M 52.681747 18.550994 \nL 56.192272 23.183594 \nL 59.70278 27.721621 \nL 63.213288 32.165112 \nL 66.723813 36.514083 \nL 70.234338 40.768509 \nL 73.744846 44.928372 \nL 77.255371 48.993707 \nL 80.765879 52.964488 \nL 84.276404 56.84074 \nL 87.786912 60.622434 \nL 91.297437 64.309604 \nL 94.807954 67.90222 \nL 98.31847 71.400295 \nL 101.828995 74.803834 \nL 105.339503 78.112817 \nL 108.85002 81.327264 \nL 112.360536 84.447166 \nL 115.871053 87.472531 \nL 119.381569 90.40335 \nL 122.892094 93.239632 \nL 126.402602 95.981361 \nL 129.913119 98.628552 \nL 133.423635 101.181202 \nL 136.93416 103.639314 \nL 140.444677 106.002877 \nL 143.955193 108.2719 \nL 147.465701 110.446372 \nL 150.976226 112.526315 \nL 154.486743 114.511707 \nL 157.997259 116.402559 \nL 161.50778 118.19887 \nL 165.018288 119.900633 \nL 168.528809 121.507857 \nL 172.039325 123.020538 \nL 175.549842 124.438678 \nL 179.060362 125.762275 \nL 182.570883 126.991329 \nL 186.081391 128.125837 \nL 189.591908 129.165806 \nL 193.102426 130.111232 \nL 196.612949 130.962117 \nL 200.123464 131.718457 \nL 203.633986 132.380256 \nL 207.14449 132.947509 \nL 210.655013 133.420223 \nL 214.165528 133.798393 \nL 217.67605 134.082021 \nL 221.186573 134.271107 \nL 224.697088 134.365649 \nL 228.207605 134.365649 \nL 231.718114 134.271107 \nL 235.228637 134.082021 \nL 238.739152 133.798394 \nL 242.249669 133.420224 \nL 245.760185 132.947511 \nL 249.270705 132.380255 \nL 252.781216 131.718458 \nL 256.291738 130.962117 \nL 259.802253 130.111234 \nL 263.312771 129.165808 \nL 266.823284 128.125841 \nL 270.333808 126.991328 \nL 273.844317 125.762278 \nL 277.354837 124.438681 \nL 280.865362 123.020538 \nL 284.37587 121.507862 \nL 287.886395 119.900634 \nL 291.396908 118.19887 \nL 294.907428 116.402559 \nL 298.417936 114.511712 \nL 301.928461 112.526315 \nL 305.43897 110.446384 \nL 308.949494 108.2719 \nL 312.460011 106.002877 \nL 315.970527 103.639314 \nL 319.481044 101.181207 \nL 322.99156 98.628559 \nL 326.502077 95.981365 \nL 330.012593 93.239632 \nL 333.52311 90.403354 \nL 337.033626 87.472535 \nL 340.544151 84.447166 \nL 344.054668 81.327264 \nL 347.565176 78.112826 \nL 351.075701 74.803825 \nL 354.586217 71.400295 \nL 358.096742 67.902212 \nL 361.607242 64.309613 \nL 365.117767 60.622443 \nL 368.628283 56.84074 \nL 372.138808 52.964488 \nL 375.649316 48.993707 \nL 379.159825 44.92839 \nL 382.670349 40.768509 \nL 386.180874 36.514083 \nL 389.691399 32.165112 \nL 393.201891 27.721648 \nL 396.712416 23.183594 \nL 400.22294 18.550994 \n\" style=\"fill:none;stroke:#1f77b4;stroke-linecap:round;stroke-width:1.5;\"/>\n   </g>\n   <g id=\"line2d_12\">\n    <path clip-path=\"url(#pf9cff27a06)\" d=\"M 52.681747 245.570881 \nL 56.192272 243.698934 \nL 59.70278 241.826995 \nL 63.213288 239.955057 \nL 66.723813 238.08311 \nL 70.234338 236.211163 \nL 73.744846 234.339225 \nL 77.255371 232.467278 \nL 80.765879 230.595339 \nL 84.276404 228.723392 \nL 87.786912 226.851454 \nL 91.297437 224.979507 \nL 94.807954 223.107569 \nL 98.31847 221.235621 \nL 101.828995 219.363674 \nL 105.339503 217.491736 \nL 108.85002 215.619798 \nL 112.360536 213.747851 \nL 115.871053 211.875904 \nL 119.381569 210.003965 \nL 122.892094 208.132018 \nL 126.402602 206.26008 \nL 129.913119 204.388133 \nL 133.423635 202.516195 \nL 136.93416 200.644248 \nL 140.444677 198.772309 \nL 143.955193 196.900362 \nL 147.465701 195.028424 \nL 150.976226 193.156477 \nL 154.486743 191.284539 \nL 157.997259 189.412591 \nL 161.50778 187.540644 \nL 165.018288 185.668706 \nL 168.528809 183.796763 \nL 172.039325 181.924821 \nL 175.549842 180.052878 \nL 179.060362 178.180935 \nL 182.570883 176.308988 \nL 186.081391 174.43705 \nL 189.591908 172.565107 \nL 193.102426 170.693165 \nL 196.612949 168.821218 \nL 200.123464 166.949275 \nL 203.633986 165.077332 \nL 207.14449 163.205394 \nL 210.655013 161.333447 \nL 214.165528 159.461509 \nL 217.67605 157.589561 \nL 221.186573 155.717614 \nL 224.697088 153.845672 \nL 228.207605 151.973729 \nL 231.718114 150.101791 \nL 235.228637 148.229844 \nL 238.739152 146.357903 \nL 242.249669 144.485961 \nL 245.760185 142.614018 \nL 249.270705 140.742073 \nL 252.781216 138.870135 \nL 256.291738 136.998188 \nL 259.802253 135.126245 \nL 263.312771 133.254302 \nL 266.823284 131.382362 \nL 270.333808 129.510415 \nL 273.844317 127.638476 \nL 277.354837 125.766532 \nL 280.865362 123.894584 \nL 284.37587 122.022646 \nL 287.886395 120.150699 \nL 291.396908 118.278759 \nL 294.907428 116.406814 \nL 298.417936 114.534875 \nL 301.928461 112.662928 \nL 305.43897 110.79099 \nL 308.949494 108.919043 \nL 312.460011 107.0471 \nL 315.970527 105.175158 \nL 319.481044 103.303215 \nL 322.99156 101.431272 \nL 326.502077 99.55933 \nL 330.012593 97.687387 \nL 333.52311 95.815444 \nL 337.033626 93.943502 \nL 340.544151 92.071554 \nL 344.054668 90.199612 \nL 347.565176 88.327673 \nL 351.075701 86.455726 \nL 354.586217 84.583784 \nL 358.096742 82.711837 \nL 361.607242 80.839903 \nL 365.117767 78.967956 \nL 368.628283 77.096013 \nL 372.138808 75.224066 \nL 375.649316 73.352128 \nL 379.159825 71.480189 \nL 382.670349 69.608242 \nL 386.180874 67.736295 \nL 389.691399 65.864348 \nL 393.201891 63.992419 \nL 396.712416 62.120472 \nL 400.22294 60.248524 \n\" style=\"fill:none;stroke:#ff7f0e;stroke-linecap:round;stroke-width:1.5;\"/>\n   </g>\n   <g id=\"patch_3\">\n    <path d=\"M 35.304688 256.921875 \nL 35.304688 7.2 \n\" style=\"fill:none;stroke:#cccccc;stroke-linecap:square;stroke-linejoin:miter;stroke-width:0.8;\"/>\n   </g>\n   <g id=\"patch_4\">\n    <path d=\"M 417.6 256.921875 \nL 417.6 7.2 \n\" style=\"fill:none;stroke:#cccccc;stroke-linecap:square;stroke-linejoin:miter;stroke-width:0.8;\"/>\n   </g>\n   <g id=\"patch_5\">\n    <path d=\"M 35.304688 256.921875 \nL 417.6 256.921875 \n\" style=\"fill:none;stroke:#cccccc;stroke-linecap:square;stroke-linejoin:miter;stroke-width:0.8;\"/>\n   </g>\n   <g id=\"patch_6\">\n    <path d=\"M 35.304688 7.2 \nL 417.6 7.2 \n\" style=\"fill:none;stroke:#cccccc;stroke-linecap:square;stroke-linejoin:miter;stroke-width:0.8;\"/>\n   </g>\n  </g>\n </g>\n <defs>\n  <clipPath id=\"pf9cff27a06\">\n   <rect height=\"249.721875\" width=\"382.295312\" x=\"35.304688\" y=\"7.2\"/>\n  </clipPath>\n </defs>\n</svg>\n"
          },
          "metadata": {}
        }
      ]
    },
    {
      "cell_type": "code",
      "source": [],
      "metadata": {
        "id": "JnfK5Zy8IaGT"
      },
      "execution_count": null,
      "outputs": []
    }
  ]
}