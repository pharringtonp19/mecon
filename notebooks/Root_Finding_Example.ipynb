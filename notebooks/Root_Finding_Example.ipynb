{
  "nbformat": 4,
  "nbformat_minor": 0,
  "metadata": {
    "colab": {
      "provenance": [],
      "collapsed_sections": [],
      "authorship_tag": "ABX9TyOMy16ocHto0HUuf5TeukHz",
      "include_colab_link": true
    },
    "kernelspec": {
      "name": "python3",
      "display_name": "Python 3"
    },
    "language_info": {
      "name": "python"
    }
  },
  "cells": [
    {
      "cell_type": "markdown",
      "metadata": {
        "id": "view-in-github",
        "colab_type": "text"
      },
      "source": [
        "<a href=\"https://colab.research.google.com/github/pharringtonp19/mecon/blob/main/notebooks/Root_Finding_Example.ipynb\" target=\"_parent\"><img src=\"https://colab.research.google.com/assets/colab-badge.svg\" alt=\"Open In Colab\"/></a>"
      ]
    },
    {
      "cell_type": "markdown",
      "source": [
        "### **Install**"
      ],
      "metadata": {
        "id": "SN22uBhPMbFc"
      }
    },
    {
      "cell_type": "code",
      "execution_count": 76,
      "metadata": {
        "id": "sMuSYRJv3hkM"
      },
      "outputs": [],
      "source": [
        "%%capture \n",
        "!pip install jaxopt"
      ]
    },
    {
      "cell_type": "markdown",
      "source": [
        "### **Imports**"
      ],
      "metadata": {
        "id": "DdlQvADYMdd1"
      }
    },
    {
      "cell_type": "code",
      "source": [
        "import jax \n",
        "jax.config.update(\"jax_enable_x64\", True)\n",
        "import jaxopt\n",
        "import jax.numpy as jnp \n",
        "from functools import partial \n",
        "import matplotlib.pyplot as plt"
      ],
      "metadata": {
        "id": "uPn68eUV3qgI"
      },
      "execution_count": 103,
      "outputs": []
    },
    {
      "cell_type": "markdown",
      "source": [
        "### **Parameters**"
      ],
      "metadata": {
        "id": "JOzrAt9oMfZi"
      }
    },
    {
      "cell_type": "code",
      "source": [
        "p1 = 12. \n",
        "p2 = lambda x: jnp.maximum(12. - 0.2*x**2, .5)\n",
        "m = 36. "
      ],
      "metadata": {
        "id": "DdaPpLsQI1Fn"
      },
      "execution_count": 214,
      "outputs": []
    },
    {
      "cell_type": "markdown",
      "source": [
        "### **Graph**"
      ],
      "metadata": {
        "id": "3HnU7PYpMkmh"
      }
    },
    {
      "cell_type": "code",
      "source": [
        "xs = jnp.linspace(0, 10, 100)\n",
        "plt.title('Expenditure on Good 2', loc='left', size=14)\n",
        "plt.plot(xs, jax.vmap(p2)(jnp.zeros_like(xs)), label='Constant Price')\n",
        "plt.plot(xs, jax.vmap(p2)(xs), label='Weakly Decreasing Pricing')\n",
        "plt.xlabel('Good 2')\n",
        "plt.legend(frameon=False)\n",
        "plt.show()"
      ],
      "metadata": {
        "colab": {
          "base_uri": "https://localhost:8080/",
          "height": 296
        },
        "id": "qE9CaMLaJrE-",
        "outputId": "c60259b8-6cc0-46e6-dc63-060902a6bc8b"
      },
      "execution_count": 217,
      "outputs": [
        {
          "output_type": "display_data",
          "data": {
            "text/plain": [
              "<Figure size 432x288 with 1 Axes>"
            ],
            "image/png": "[encoded data removed]"
          },
          "metadata": {
            "needs_background": "light"
          }
        }
      ]
    },
    {
      "cell_type": "markdown",
      "source": [
        "### **Constructing the Budget Constraint**"
      ],
      "metadata": {
        "id": "zISyYcCCMnxT"
      }
    },
    {
      "cell_type": "code",
      "source": [
        "def Variable_Pricing_Excess_Expenditure(x2, x1): \n",
        "  return p1*x1 + p2(x2)*x2 - m \n",
        "\n",
        "def Constant_Pricing_Excess_Expenditure(x2, x1): \n",
        "  return p1*x1 + p2(0)*x2 - m \n",
        "\n",
        "def solver(F, x1):\n",
        "  bisec = jaxopt.Bisection(optimality_fun=F, lower=-1., upper=1000)\n",
        "  return bisec.run(x1=x1).params\n",
        "\n",
        "def budget_contraint(F, solver, x):\n",
        "  return solver(F, x)"
      ],
      "metadata": {
        "id": "mM12Gz6gJPXs"
      },
      "execution_count": 218,
      "outputs": []
    },
    {
      "cell_type": "code",
      "source": [
        "for x1 in [1., 1.5, 2.]:\n",
        "  a, b = jax.grad(Variable_Pricing_Excess_Expenditure, argnums=(0,1))(x1, solver(Variable_Pricing_Excess_Expenditure, x1))\n",
        "  print(-a/b)"
      ],
      "metadata": {
        "colab": {
          "base_uri": "https://localhost:8080/"
        },
        "id": "hroOal_6RdfF",
        "outputId": "dec49b60-05fd-415a-f694-e00a074637c2"
      },
      "execution_count": 224,
      "outputs": [
        {
          "output_type": "stream",
          "name": "stdout",
          "text": [
            "-0.9500000000000001\n",
            "-0.8875000000000001\n",
            "-0.7999999999999999\n"
          ]
        }
      ]
    },
    {
      "cell_type": "code",
      "source": [
        "Constant_Pricing_Excess_Expenditure(1000., 0.)"
      ],
      "metadata": {
        "colab": {
          "base_uri": "https://localhost:8080/"
        },
        "id": "S0YXWqzoQeM6",
        "outputId": "d2034d22-4102-400c-a7f5-35cdc1af6e8c"
      },
      "execution_count": 219,
      "outputs": [
        {
          "output_type": "execute_result",
          "data": {
            "text/plain": [
              "DeviceArray(11964., dtype=float64, weak_type=True)"
            ]
          },
          "metadata": {},
          "execution_count": 219
        }
      ]
    },
    {
      "cell_type": "markdown",
      "source": [
        "### **Plot Budget Constraint Function**"
      ],
      "metadata": {
        "id": "EyfMQJ8oMsIQ"
      }
    },
    {
      "cell_type": "code",
      "source": [
        "constant_pricing_x2s = [] \n",
        "variable_pricing_x2s = []\n",
        "x1s = jnp.linspace(0, 3, 20)\n",
        "for x1 in x1s:\n",
        "  #print(x1, budget_contraint(Constant_Pricing_Excess_Expenditure, solver, x1))\n",
        "  constant_pricing_x2s.append(budget_contraint(Constant_Pricing_Excess_Expenditure, solver, x1))\n",
        "  variable_pricing_x2s.append(budget_contraint(Variable_Pricing_Excess_Expenditure, solver, x1))\n",
        "\n",
        "plt.plot(x1s, constant_pricing_x2s, label='Constant Pricing')\n",
        "plt.plot(x1s, variable_pricing_x2s, label='Variable Pricing')\n",
        "plt.title('Good 2', loc='left', size=14)\n",
        "plt.xlabel('Good 1', size=14)\n",
        "plt.show()"
      ],
      "metadata": {
        "colab": {
          "base_uri": "https://localhost:8080/",
          "height": 300
        },
        "id": "1ybvHKWmKUry",
        "outputId": "20164065-a8ae-4909-b261-851a022dfce6"
      },
      "execution_count": 220,
      "outputs": [
        {
          "output_type": "display_data",
          "data": {
            "text/plain": [
              "<Figure size 432x288 with 1 Axes>"
            ],
            "image/png": "[encoded data removed]"
          },
          "metadata": {
            "needs_background": "light"
          }
        }
      ]
    }
  ]
}