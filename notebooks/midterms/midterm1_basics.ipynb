{
  "nbformat": 4,
  "nbformat_minor": 0,
  "metadata": {
    "colab": {
      "provenance": [],
      "authorship_tag": "ABX9TyPejDMrdWHnL12QW2TTI+gE",
      "include_colab_link": true
    },
    "kernelspec": {
      "name": "python3",
      "display_name": "Python 3"
    },
    "language_info": {
      "name": "python"
    }
  },
  "cells": [
    {
      "cell_type": "markdown",
      "metadata": {
        "id": "view-in-github",
        "colab_type": "text"
      },
      "source": [
        "<a href=\"https://colab.research.google.com/github/pharringtonp19/mecon/blob/main/notebooks/midterms/midterm1_basics.ipynb\" target=\"_parent\"><img src=\"https://colab.research.google.com/assets/colab-badge.svg\" alt=\"Open In Colab\"/></a>"
      ]
    },
    {
      "cell_type": "code",
      "execution_count": 3,
      "metadata": {
        "id": "JkB8cB2Q48oi"
      },
      "outputs": [],
      "source": [
        "import jax \n",
        "import jax.numpy as jnp \n",
        "from functools import partial "
      ]
    },
    {
      "cell_type": "markdown",
      "source": [
        "### **Question One**\n",
        "\n",
        "Given the following utility function, compute the marginal rate of substitution at the bundle $(B=5., a=0.4, h=2,c=3)$. \n",
        "\n",
        "\\begin{align*}\n",
        "U(B, a, h, c) = Bh^ac^{1-a}\n",
        "\\end{align*}"
      ],
      "metadata": {
        "id": "fQ7kAvt45B-X"
      }
    },
    {
      "cell_type": "code",
      "source": [
        "def utility(B, a, h, c):\n",
        "  return None # What should go here?"
      ],
      "metadata": {
        "id": "Dr8mUmCT5AQc"
      },
      "execution_count": 5,
      "outputs": []
    },
    {
      "cell_type": "code",
      "source": [
        "def MRS(h, c):\n",
        "  partialh = jax.grad(partial(utility, 5., 0.4), argnums=0)(h, c)\n",
        "  partialc = jax.grad(partial(utility, 5., 0.4), argnums=1)(h, c)\n",
        "  return -partialh/partialc"
      ],
      "metadata": {
        "id": "d8WxN_fX5ucF"
      },
      "execution_count": 9,
      "outputs": []
    }
  ]
}