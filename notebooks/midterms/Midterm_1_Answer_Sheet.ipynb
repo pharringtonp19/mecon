{
  "nbformat": 4,
  "nbformat_minor": 0,
  "metadata": {
    "colab": {
      "provenance": [],
      "collapsed_sections": [],
      "authorship_tag": "ABX9TyMKJ38Lxz1pF4KOJsM1LtHO",
      "include_colab_link": true
    },
    "kernelspec": {
      "name": "python3",
      "display_name": "Python 3"
    },
    "language_info": {
      "name": "python"
    }
  },
  "cells": [
    {
      "cell_type": "markdown",
      "metadata": {
        "id": "view-in-github",
        "colab_type": "text"
      },
      "source": [
        "<a href=\"https://colab.research.google.com/github/pharringtonp19/mecon/blob/main/notebooks/midterms/Midterm_1_Answer_Sheet.ipynb\" target=\"_parent\"><img src=\"https://colab.research.google.com/assets/colab-badge.svg\" alt=\"Open In Colab\"/></a>"
      ]
    },
    {
      "cell_type": "code",
      "source": [
        "import jax \n",
        "import jax.numpy as jnp \n",
        "import matplotlib.pyplot as plt "
      ],
      "metadata": {
        "id": "re0XIYl72V1e"
      },
      "execution_count": 1,
      "outputs": []
    },
    {
      "cell_type": "markdown",
      "source": [
        "### **Question 3** "
      ],
      "metadata": {
        "id": "WQQAaV4buUl1"
      }
    },
    {
      "cell_type": "markdown",
      "source": [
        "### **Question 4** "
      ],
      "metadata": {
        "id": "Cal34uzDuYEu"
      }
    },
    {
      "cell_type": "markdown",
      "source": [
        "### **Question 5** "
      ],
      "metadata": {
        "id": "33-CQxXOuZOz"
      }
    },
    {
      "cell_type": "markdown",
      "source": [
        "### **Question 6** "
      ],
      "metadata": {
        "id": "QxF3lpA3uahT"
      }
    },
    {
      "cell_type": "markdown",
      "source": [
        "### **Question 7** "
      ],
      "metadata": {
        "id": "p0t5fjs3ub29"
      }
    },
    {
      "cell_type": "markdown",
      "source": [
        "### **Question 8** "
      ],
      "metadata": {
        "id": "CmrRM8ZYudHE"
      }
    },
    {
      "cell_type": "markdown",
      "source": [
        "### **Question 9** "
      ],
      "metadata": {
        "id": "ZmMavGqXuerP"
      }
    },
    {
      "cell_type": "markdown",
      "source": [
        "### **Question 10** "
      ],
      "metadata": {
        "id": "DM-JGaT9ufwa"
      }
    },
    {
      "cell_type": "markdown",
      "source": [
        "### **Bonus** "
      ],
      "metadata": {
        "id": "iS7BoW1PuhaY"
      }
    },
    {
      "cell_type": "code",
      "source": [],
      "metadata": {
        "id": "pxQu9gIkuW_b"
      },
      "execution_count": null,
      "outputs": []
    }
  ]
}