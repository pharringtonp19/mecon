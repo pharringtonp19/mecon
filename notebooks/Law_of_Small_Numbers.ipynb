{
  "nbformat": 4,
  "nbformat_minor": 0,
  "metadata": {
    "colab": {
      "provenance": [],
      "authorship_tag": "ABX9TyNBWpiP+2GerK5pby2h/wUC",
      "include_colab_link": true
    },
    "kernelspec": {
      "name": "python3",
      "display_name": "Python 3"
    },
    "language_info": {
      "name": "python"
    }
  },
  "cells": [
    {
      "cell_type": "markdown",
      "metadata": {
        "id": "view-in-github",
        "colab_type": "text"
      },
      "source": [
        "<a href=\"https://colab.research.google.com/github/pharringtonp19/mecon/blob/main/notebooks/Law_of_Small_Numbers.ipynb\" target=\"_parent\"><img src=\"https://colab.research.google.com/assets/colab-badge.svg\" alt=\"Open In Colab\"/></a>"
      ]
    },
    {
      "cell_type": "code",
      "execution_count": 1,
      "metadata": {
        "id": "2dOHddr2X80l"
      },
      "outputs": [],
      "source": [
        "import jax \n",
        "import jax.numpy as jnp "
      ]
    },
    {
      "cell_type": "code",
      "source": [
        "def sample(key_number, n):\n",
        "  cutoff = n*.6 \n",
        "  results = jax.random.choice(jax.random.PRNGKey(key_number), a=jnp.array([0., 1.]), shape=(365,n), p=jnp.array([0.5, 0.5]))\n",
        "  number_boys = jnp.sum(results, axis=1)\n",
        "  binary_outcome = number_boys > cutoff \n",
        "  return jnp.mean(binary_outcome)"
      ],
      "metadata": {
        "id": "zID5PWk2YOJx"
      },
      "execution_count": 6,
      "outputs": []
    },
    {
      "cell_type": "code",
      "source": [
        "sample(0, 45)"
      ],
      "metadata": {
        "colab": {
          "base_uri": "https://localhost:8080/"
        },
        "id": "NIuyxCTeX_J5",
        "outputId": "a2b1a552-e328-4934-caee-fc8982f98a86"
      },
      "execution_count": 9,
      "outputs": [
        {
          "output_type": "execute_result",
          "data": {
            "text/plain": [
              "DeviceArray(0.07123288, dtype=float32)"
            ]
          },
          "metadata": {},
          "execution_count": 9
        }
      ]
    },
    {
      "cell_type": "code",
      "source": [
        "sample(0, 15)"
      ],
      "metadata": {
        "colab": {
          "base_uri": "https://localhost:8080/"
        },
        "id": "bxLNHfm3YEt4",
        "outputId": "93af9153-7d50-43cf-d961-b72b75024056"
      },
      "execution_count": 10,
      "outputs": [
        {
          "output_type": "execute_result",
          "data": {
            "text/plain": [
              "DeviceArray(0.13150686, dtype=float32)"
            ]
          },
          "metadata": {},
          "execution_count": 10
        }
      ]
    },
    {
      "cell_type": "code",
      "source": [],
      "metadata": {
        "id": "yLXo3tK7hWZE"
      },
      "execution_count": null,
      "outputs": []
    }
  ]
}